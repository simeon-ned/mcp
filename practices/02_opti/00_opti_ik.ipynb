{
 "cells": [
  {
   "cell_type": "code",
   "execution_count": 1,
   "metadata": {},
   "outputs": [],
   "source": [
    "import numpy as np\n",
    "from darli.models import RobotModel\n",
    "import casadi as cs"
   ]
  },
  {
   "cell_type": "code",
   "execution_count": 2,
   "metadata": {},
   "outputs": [],
   "source": [
    "urdf_file = '../yet_another_menagerie/z1/z1.urdf'\n",
    "model = RobotModel(urdf_file, bodies_names={'ee': 'link06'})"
   ]
  },
  {
   "cell_type": "code",
   "execution_count": 3,
   "metadata": {},
   "outputs": [],
   "source": [
    "opti_problem = cs.Opti()\n",
    "q = opti_problem.variable(model.nq)"
   ]
  },
  {
   "cell_type": "code",
   "execution_count": 4,
   "metadata": {},
   "outputs": [],
   "source": [
    "pos = model.body('ee').position(q)\n",
    "gravity = model.inverse_dynamics(q, 0, 0)"
   ]
  },
  {
   "cell_type": "code",
   "execution_count": 5,
   "metadata": {},
   "outputs": [],
   "source": [
    "# TODO: move to parameters\n",
    "desired_pos = opti_problem.parameter(3)\n"
   ]
  },
  {
   "cell_type": "code",
   "execution_count": 6,
   "metadata": {},
   "outputs": [],
   "source": [
    "cost = cs.sumsqr(pos - desired_pos) + 0.001*cs.sumsqr(gravity)\n",
    "opti_problem.minimize(cost)\n",
    "opti_problem.subject_to(opti_problem.bounded(model.q_min, q, model.q_max))\n",
    "opti_problem.solver('ipopt')"
   ]
  },
  {
   "cell_type": "code",
   "execution_count": 7,
   "metadata": {},
   "outputs": [],
   "source": [
    "opti_problem.set_value(desired_pos,[0.2, 0.2, 0.36])"
   ]
  },
  {
   "cell_type": "code",
   "execution_count": 8,
   "metadata": {},
   "outputs": [
    {
     "name": "stdout",
     "output_type": "stream",
     "text": [
      "\n",
      "******************************************************************************\n",
      "This program contains Ipopt, a library for large-scale nonlinear optimization.\n",
      " Ipopt is released as open source code under the Eclipse Public License (EPL).\n",
      "         For more information visit https://github.com/coin-or/Ipopt\n",
      "******************************************************************************\n",
      "\n",
      "This is Ipopt version 3.14.11, running with linear solver MUMPS 5.4.1.\n",
      "\n",
      "Number of nonzeros in equality constraint Jacobian...:        0\n",
      "Number of nonzeros in inequality constraint Jacobian.:        6\n",
      "Number of nonzeros in Lagrangian Hessian.............:       20\n",
      "\n",
      "Total number of variables............................:        6\n",
      "                     variables with only lower bounds:        0\n",
      "                variables with lower and upper bounds:        0\n",
      "                     variables with only upper bounds:        0\n",
      "Total number of equality constraints.................:        0\n",
      "Total number of inequality constraints...............:        6\n",
      "        inequality constraints with only lower bounds:        0\n",
      "   inequality constraints with lower and upper bounds:        6\n",
      "        inequality constraints with only upper bounds:        0\n",
      "\n",
      "iter    objective    inf_pr   inf_du lg(mu)  ||d||  lg(rg) alpha_du alpha_pr  ls\n",
      "   0  1.6196311e-01 0.00e+00 5.58e-02  -1.0 0.00e+00    -  0.00e+00 0.00e+00   0\n",
      "   1  1.4548393e-01 0.00e+00 1.83e-03  -1.0 1.10e-01    -  9.78e-01 1.00e+00f  1\n",
      "   2  4.2875574e-02 0.00e+00 1.76e-01  -1.7 1.03e+00    -  1.77e-01 1.00e+00f  1\n",
      "   3  2.9492140e-02 0.00e+00 1.39e-02  -2.5 4.02e-01    -  8.93e-01 1.00e+00f  1\n",
      "   4  2.9260023e-02 0.00e+00 2.64e-04  -3.8 4.33e-02    -  9.82e-01 1.00e+00f  1\n",
      "   5  2.9251565e-02 0.00e+00 1.86e-04  -5.7 1.86e-02  -2.0 1.00e+00 1.00e+00f  1\n",
      "   6  2.9193924e-02 0.00e+00 3.24e-04  -5.7 9.71e-02  -2.5 1.00e+00 1.00e+00f  1\n",
      "   7  2.9163099e-02 0.00e+00 3.47e-04  -5.7 3.91e-02  -2.1 1.00e+00 1.00e+00f  1\n",
      "   8  2.8996398e-02 0.00e+00 8.89e-04  -5.7 1.73e-01  -2.5 1.00e+00 1.00e+00f  1\n",
      "   9  2.8747490e-02 0.00e+00 8.51e-03  -5.7 5.63e-01  -3.0 1.00e+00 1.00e+00f  1\n",
      "iter    objective    inf_pr   inf_du lg(mu)  ||d||  lg(rg) alpha_du alpha_pr  ls\n",
      "  10  2.8621128e-02 0.00e+00 1.27e-04  -5.7 1.61e-01    -  1.00e+00 1.00e+00f  1\n",
      "  11  2.8620034e-02 0.00e+00 5.23e-05  -5.7 6.05e-02    -  1.00e+00 1.00e+00f  1\n",
      "  12  2.8619963e-02 0.00e+00 2.15e-05  -5.7 4.08e-02    -  1.00e+00 1.00e+00f  1\n",
      "  13  2.8619959e-02 0.00e+00 8.26e-07  -5.7 7.99e-03    -  1.00e+00 1.00e+00f  1\n",
      "  14  2.8619958e-02 0.00e+00 6.28e-08  -8.6 2.11e-03    -  1.00e+00 1.00e+00f  1\n",
      "  15  2.8619958e-02 0.00e+00 6.04e-11  -8.6 6.84e-05    -  1.00e+00 1.00e+00f  1\n",
      "\n",
      "Number of Iterations....: 15\n",
      "\n",
      "                                   (scaled)                 (unscaled)\n",
      "Objective...............:   2.8619958472878425e-02    2.8619958472878425e-02\n",
      "Dual infeasibility......:   6.0402753897496470e-11    6.0402753897496470e-11\n",
      "Constraint violation....:   0.0000000000000000e+00    0.0000000000000000e+00\n",
      "Variable bound violation:   0.0000000000000000e+00    0.0000000000000000e+00\n",
      "Complementarity.........:   2.5060708505950875e-09    2.5060708505950875e-09\n",
      "Overall NLP error.......:   2.5060708505950875e-09    2.5060708505950875e-09\n",
      "\n",
      "\n",
      "Number of objective function evaluations             = 16\n",
      "Number of objective gradient evaluations             = 16\n",
      "Number of equality constraint evaluations            = 0\n",
      "Number of inequality constraint evaluations          = 16\n",
      "Number of equality constraint Jacobian evaluations   = 0\n",
      "Number of inequality constraint Jacobian evaluations = 16\n",
      "Number of Lagrangian Hessian evaluations             = 15\n",
      "Total seconds in IPOPT                               = 0.028\n",
      "\n",
      "EXIT: Optimal Solution Found.\n",
      "      solver  :   t_proc      (avg)   t_wall      (avg)    n_eval\n",
      "       nlp_f  |   1.92ms (120.19us) 351.02us ( 21.94us)        16\n",
      "       nlp_g  | 633.00us ( 39.56us) 100.08us (  6.26us)        16\n",
      "  nlp_grad_f  |   4.28ms (251.94us) 769.71us ( 45.28us)        17\n",
      "  nlp_hess_l  |  27.18ms (  1.81ms)   5.16ms (343.71us)        15\n",
      "   nlp_jac_g  | 355.00us ( 20.88us)  65.99us (  3.88us)        17\n",
      "       total  | 147.90ms (147.90ms)  28.15ms ( 28.15ms)         1\n"
     ]
    },
    {
     "data": {
      "text/plain": [
       "OptiSol(Opti {\n",
       "  instance #0\n",
       "  #variables: 1 (nx = 6)\n",
       "  #parameters: 1 (np = 3)\n",
       "  #constraints: 1 (ng = 6)\n",
       "  CasADi solver allocated.\n",
       "  CasADi solver was called: Solve_Succeeded\n",
       "})"
      ]
     },
     "execution_count": 8,
     "metadata": {},
     "output_type": "execute_result"
    }
   ],
   "source": [
    "opti_problem.solve()"
   ]
  },
  {
   "cell_type": "code",
   "execution_count": 9,
   "metadata": {},
   "outputs": [
    {
     "data": {
      "text/plain": [
       "array([ 7.85397669e-01,  1.39999804e+00, -1.25671438e+00,  9.70957982e-01,\n",
       "        2.15841899e-06,  1.20044243e-01])"
      ]
     },
     "execution_count": 9,
     "metadata": {},
     "output_type": "execute_result"
    }
   ],
   "source": [
    "q_opt = opti_problem.value(q)\n",
    "q_opt"
   ]
  },
  {
   "cell_type": "code",
   "execution_count": 10,
   "metadata": {},
   "outputs": [
    {
     "data": {
      "text/plain": [
       "array([[0.15341843],\n",
       "       [0.15341842],\n",
       "       [0.36670296]])"
      ]
     },
     "execution_count": 10,
     "metadata": {},
     "output_type": "execute_result"
    }
   ],
   "source": [
    "np.array(model.body('ee').position(q_opt))"
   ]
  },
  {
   "cell_type": "code",
   "execution_count": 11,
   "metadata": {},
   "outputs": [
    {
     "name": "stdout",
     "output_type": "stream",
     "text": [
      "This is Ipopt version 3.14.11, running with linear solver MUMPS 5.4.1.\n",
      "\n",
      "Number of nonzeros in equality constraint Jacobian...:        0\n",
      "Number of nonzeros in inequality constraint Jacobian.:        6\n",
      "Number of nonzeros in Lagrangian Hessian.............:       20\n",
      "\n",
      "Total number of variables............................:        6\n",
      "                     variables with only lower bounds:        0\n",
      "                variables with lower and upper bounds:        0\n",
      "                     variables with only upper bounds:        0\n",
      "Total number of equality constraints.................:        0\n",
      "Total number of inequality constraints...............:        6\n",
      "        inequality constraints with only lower bounds:        0\n",
      "   inequality constraints with lower and upper bounds:        6\n",
      "        inequality constraints with only upper bounds:        0\n",
      "\n",
      "iter    objective    inf_pr   inf_du lg(mu)  ||d||  lg(rg) alpha_du alpha_pr  ls\n",
      "   0  2.8785899e-02 0.00e+00 3.07e-03  -1.0 0.00e+00    -  0.00e+00 0.00e+00   0\n",
      "   1  2.8917416e-02 0.00e+00 1.88e-04  -1.0 6.32e-02    -  1.00e+00 1.00e+00f  1\n",
      "   2  2.8596316e-02 0.00e+00 1.51e-04  -2.5 4.89e-02    -  1.00e+00 1.00e+00f  1\n",
      "   3  2.8529932e-02 0.00e+00 7.66e-05  -3.8 5.74e-02    -  1.00e+00 1.00e+00f  1\n",
      "   4  2.8509320e-02 0.00e+00 1.58e-04  -5.7 8.06e-02    -  9.90e-01 1.00e+00f  1\n",
      "   5  2.8509159e-02 0.00e+00 8.49e-07  -5.7 5.90e-03    -  1.00e+00 1.00e+00f  1\n",
      "   6  2.8509157e-02 0.00e+00 1.20e-08  -8.6 9.10e-04    -  1.00e+00 1.00e+00f  1\n",
      "   7  2.8509157e-02 0.00e+00 6.57e-14  -9.0 8.33e-06    -  1.00e+00 1.00e+00f  1\n",
      "\n",
      "Number of Iterations....: 7\n",
      "\n",
      "                                   (scaled)                 (unscaled)\n",
      "Objective...............:   2.8509157352020861e-02    2.8509157352020861e-02\n",
      "Dual infeasibility......:   6.5747736085938887e-14    6.5747736085938887e-14\n",
      "Constraint violation....:   0.0000000000000000e+00    0.0000000000000000e+00\n",
      "Variable bound violation:   0.0000000000000000e+00    0.0000000000000000e+00\n",
      "Complementarity.........:   9.0910226369298903e-10    9.0910226369298903e-10\n",
      "Overall NLP error.......:   9.0910226369298903e-10    9.0910226369298903e-10\n",
      "\n",
      "\n",
      "Number of objective function evaluations             = 8\n",
      "Number of objective gradient evaluations             = 8\n",
      "Number of equality constraint evaluations            = 0\n",
      "Number of inequality constraint evaluations          = 8\n",
      "Number of equality constraint Jacobian evaluations   = 0\n",
      "Number of inequality constraint Jacobian evaluations = 8\n",
      "Number of Lagrangian Hessian evaluations             = 7\n",
      "Total seconds in IPOPT                               = 0.010\n",
      "\n",
      "EXIT: Optimal Solution Found.\n",
      "      solver  :   t_proc      (avg)   t_wall      (avg)    n_eval\n",
      "       nlp_f  |   2.48ms (103.50us) 490.71us ( 20.45us)        24\n",
      "       nlp_g  | 811.00us ( 33.79us) 137.11us (  5.71us)        24\n",
      "    nlp_grad  | 275.00us (275.00us)  45.80us ( 45.80us)         1\n",
      "  nlp_grad_f  |   5.70ms (219.27us)   1.12ms ( 43.17us)        26\n",
      "  nlp_hess_l  |  34.54ms (  1.57ms)   6.99ms (317.95us)        22\n",
      "   nlp_jac_g  | 489.00us ( 18.81us)  98.78us (  3.80us)        26\n",
      "       total  |  41.95ms ( 41.95ms)  10.44ms ( 10.44ms)         1\n"
     ]
    },
    {
     "data": {
      "text/plain": [
       "OptiSol(Opti {\n",
       "  instance #0\n",
       "  #variables: 1 (nx = 6)\n",
       "  #parameters: 1 (np = 3)\n",
       "  #constraints: 1 (ng = 6)\n",
       "  CasADi solver allocated.\n",
       "  CasADi solver was called: Solve_Succeeded\n",
       "})"
      ]
     },
     "execution_count": 11,
     "metadata": {},
     "output_type": "execute_result"
    }
   ],
   "source": [
    "# opti_problem.solver('sqpmethod')\n",
    "opti_problem.set_initial(q,q_opt)\n",
    "opti_problem.set_value(desired_pos,[0.19, 0.21, 0.37])\n",
    "opti_problem.solve()"
   ]
  }
 ],
 "metadata": {
  "kernelspec": {
   "display_name": "base",
   "language": "python",
   "name": "python3"
  },
  "language_info": {
   "codemirror_mode": {
    "name": "ipython",
    "version": 3
   },
   "file_extension": ".py",
   "mimetype": "text/x-python",
   "name": "python",
   "nbconvert_exporter": "python",
   "pygments_lexer": "ipython3",
   "version": "3.10.13"
  },
  "orig_nbformat": 4
 },
 "nbformat": 4,
 "nbformat_minor": 2
}
