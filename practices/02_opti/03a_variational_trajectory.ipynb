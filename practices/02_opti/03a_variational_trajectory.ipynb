{
 "cells": [
  {
   "cell_type": "code",
   "execution_count": 1,
   "metadata": {},
   "outputs": [],
   "source": [
    "from darli.models.robot_model import RobotModel\n",
    "import matplotlib.pyplot as plt\n",
    "import casadi as cs\n",
    "import numpy as np"
   ]
  },
  {
   "cell_type": "code",
   "execution_count": 2,
   "metadata": {},
   "outputs": [],
   "source": [
    "urdf_file = '../yet_another_menagerie/z1/z1.urdf'\n",
    "darli_model = RobotModel(urdf_file, bodies_names={'ee': 'link06'})\n"
   ]
  },
  {
   "cell_type": "code",
   "execution_count": 3,
   "metadata": {},
   "outputs": [],
   "source": [
    "nq = darli_model.nq\n",
    "nv = darli_model.nv\n",
    "nu = darli_model.nu"
   ]
  },
  {
   "cell_type": "markdown",
   "metadata": {},
   "source": [
    "### Variational Integrator"
   ]
  },
  {
   "cell_type": "code",
   "execution_count": 4,
   "metadata": {},
   "outputs": [],
   "source": [
    "# Variables used in variational integrator \n",
    "q1 = cs.SX.sym('q1', darli_model.nq) # q_k-1\n",
    "q2 = cs.SX.sym('q2', darli_model.nq) # q_k\n",
    "q3 = cs.SX.sym('q3', darli_model.nq) # q_k+1\n",
    "dT = cs.SX.sym('dt') # sampling time\n",
    "\n",
    "# approximation of discrete Lagrangian\n",
    "discrete_lagrangian =  cs.Function(f'discrete_lagrangian', [q1, q2, dT], \n",
    "                                   [darli_model.lagrangian((q1+q2)/2, (q2-q1)/dT)*dT], ['q1', 'q2', 'dt'], ['dL'])\n",
    "# Slot derivatives wrt q1, q2\n",
    "D1L = cs.Function(f'D1L', [q1, q2, dT], \n",
    "                  [cs.jacobian(discrete_lagrangian(q1, q2, dT), q1)], ['q1', 'q2', 'dt'], ['D1L']) \n",
    "D2L = cs.Function(f'D2L', [q1, q2, dT], \n",
    "                  [cs.jacobian(discrete_lagrangian(q1, q2, dT), q2)], ['q1', 'q2', 'dt'], ['D2L']) \n",
    "\n",
    "# Discrete Euler Lagrange residual (should be zero without inputs and auxiliary forces)\n",
    "DEL_constraint = cs.Function(f'DEL',  [q1, q2, q3, dT],\n",
    "                             [ D2L(q1, q2, dT).T + D1L(q2, q3, dT).T], \n",
    "                             ['q-1', 'q', 'q+1', 'dt'], ['DEL_residual']) "
   ]
  },
  {
   "cell_type": "markdown",
   "metadata": {},
   "source": [
    "Checkout the function:"
   ]
  },
  {
   "cell_type": "code",
   "execution_count": 5,
   "metadata": {},
   "outputs": [
    {
     "data": {
      "text/plain": [
       "Function(DEL:(q-1[6],q[6],q+1[6],dt)->(DEL_residual[6]) SXFunction)"
      ]
     },
     "execution_count": 5,
     "metadata": {},
     "output_type": "execute_result"
    }
   ],
   "source": [
    "DEL_constraint"
   ]
  },
  {
   "cell_type": "markdown",
   "metadata": {},
   "source": [
    "### Optimal Control Problem  "
   ]
  },
  {
   "cell_type": "markdown",
   "metadata": {},
   "source": [
    "Time intervals (nodes):"
   ]
  },
  {
   "cell_type": "code",
   "execution_count": 6,
   "metadata": {},
   "outputs": [],
   "source": [
    "ns = 50  # number of shooting nodes\n",
    "tf = 1.5  # [s]\n",
    "dt = tf/ns"
   ]
  },
  {
   "cell_type": "markdown",
   "metadata": {},
   "source": [
    "Create problem instance, configuration and control variables:"
   ]
  },
  {
   "cell_type": "code",
   "execution_count": 7,
   "metadata": {},
   "outputs": [],
   "source": [
    "opti_problem = cs.Opti()\n",
    "q = opti_problem.variable(ns, nq)\n",
    "u = opti_problem.variable(ns-1, nv)"
   ]
  },
  {
   "cell_type": "markdown",
   "metadata": {},
   "source": [
    "Introduce integrator constraints (Discrete EL and trapezoidal approximation for the control):"
   ]
  },
  {
   "cell_type": "code",
   "execution_count": 8,
   "metadata": {},
   "outputs": [],
   "source": [
    "# Integrator constraints \n",
    "for i in range(1, ns-1):\n",
    "    del_residual = DEL_constraint(q[i-1,:].T, q[i,:].T, q[i+1,:].T, dt)  \n",
    "    del_control = (u[i-1,:].T + u[i,:].T)*dt/2\n",
    "    opti_problem.subject_to(del_residual + del_control == 0)\n"
   ]
  },
  {
   "cell_type": "markdown",
   "metadata": {},
   "source": [
    "Create parametric initial and final points (joint and cartesian spaces):"
   ]
  },
  {
   "cell_type": "code",
   "execution_count": 9,
   "metadata": {},
   "outputs": [],
   "source": [
    "initial_configuration = opti_problem.parameter(6)\n",
    "desired_pos = opti_problem.parameter(3)"
   ]
  },
  {
   "cell_type": "markdown",
   "metadata": {},
   "source": [
    "Setup the boundary conditions:"
   ]
  },
  {
   "cell_type": "code",
   "execution_count": 10,
   "metadata": {},
   "outputs": [],
   "source": [
    "# initial point (joint space)\n",
    "opti_problem.subject_to(q[0,:].T == initial_configuration)\n",
    "opti_problem.subject_to(q[0,:].T == q[1,:].T)\n",
    "# Terminal point (cartesian space)\n",
    "opti_problem.subject_to(darli_model.body('ee').position(q[-1,:]) == desired_pos)\n",
    "opti_problem.subject_to(q[-1,:].T == q[-2,:].T)"
   ]
  },
  {
   "cell_type": "markdown",
   "metadata": {},
   "source": [
    "Cost quadrature approximation:"
   ]
  },
  {
   "cell_type": "code",
   "execution_count": 11,
   "metadata": {},
   "outputs": [],
   "source": [
    "# cost\n",
    "cost = 0 \n",
    "\n",
    "# stage cost \n",
    "for i in range(ns-1):\n",
    "    cost += 1e-2*cs.sumsqr(q[i,:])*dt\n",
    "    cost += 5e-2*cs.sumsqr((q[i+1,:] - q[i,:])/dt)*dt\n",
    "    cost += 0.005*cs.sumsqr(u[i,:])*dt\n",
    "    \n",
    "# Terminal cost \n",
    "cost += 5e-2*cs.sumsqr(q[-1,:])\n",
    "cost += 10e-2*cs.sumsqr((q[-1,:] - q[-2,:])/dt)\n"
   ]
  },
  {
   "cell_type": "markdown",
   "metadata": {},
   "source": [
    "Setup the limits:"
   ]
  },
  {
   "cell_type": "code",
   "execution_count": 12,
   "metadata": {},
   "outputs": [],
   "source": [
    "# Limits \n",
    "# joint limits \n",
    "opti_problem.subject_to(opti_problem.bounded(darli_model.q_min, q.T, darli_model.q_max))\n",
    "# velocity limits\n",
    "v_max = 1.5\n",
    "qdot_lims = np.full((nv), v_max)\n",
    "opti_problem.subject_to(opti_problem.bounded(-qdot_lims,(q[1:,:] - q[:-1,:]).T/dt,  qdot_lims))\n",
    "# torque limits\n",
    "u_max = 5\n",
    "u_lims = np.full((nu), u_max) \n",
    "opti_problem.subject_to(opti_problem.bounded(-u_max, u.T,  u_max))"
   ]
  },
  {
   "cell_type": "markdown",
   "metadata": {},
   "source": [
    "Define numerical values for the parameters and solve:"
   ]
  },
  {
   "cell_type": "code",
   "execution_count": 13,
   "metadata": {},
   "outputs": [],
   "source": [
    "opti_problem.set_value(initial_configuration,np.zeros(6))\n",
    "opti_problem.set_value(desired_pos,[0.2, 0.2, 0.36])"
   ]
  },
  {
   "cell_type": "code",
   "execution_count": 14,
   "metadata": {},
   "outputs": [],
   "source": [
    "opti_problem.minimize(cost)\n",
    "# opti_problem.solver('sqpmethod')\n",
    "opti_problem.solver('ipopt')"
   ]
  },
  {
   "cell_type": "code",
   "execution_count": 15,
   "metadata": {},
   "outputs": [
    {
     "name": "stdout",
     "output_type": "stream",
     "text": [
      "\n",
      "******************************************************************************\n",
      "This program contains Ipopt, a library for large-scale nonlinear optimization.\n",
      " Ipopt is released as open source code under the Eclipse Public License (EPL).\n",
      "         For more information visit https://github.com/coin-or/Ipopt\n",
      "******************************************************************************\n",
      "\n",
      "This is Ipopt version 3.14.11, running with linear solver MUMPS 5.4.1.\n",
      "\n",
      "Number of nonzeros in equality constraint Jacobian...:     5804\n",
      "Number of nonzeros in inequality constraint Jacobian.:     1182\n",
      "Number of nonzeros in Lagrangian Hessian.............:     3108\n",
      "\n",
      "Total number of variables............................:      594\n",
      "                     variables with only lower bounds:        0\n",
      "                variables with lower and upper bounds:        0\n",
      "                     variables with only upper bounds:        0\n",
      "Total number of equality constraints.................:      309\n",
      "Total number of inequality constraints...............:      888\n",
      "        inequality constraints with only lower bounds:        0\n",
      "   inequality constraints with lower and upper bounds:      888\n",
      "        inequality constraints with only upper bounds:        0\n",
      "\n",
      "iter    objective    inf_pr   inf_du lg(mu)  ||d||  lg(rg) alpha_du alpha_pr  ls\n",
      "   0  0.0000000e+00 2.13e-01 0.00e+00  -1.0 0.00e+00    -  0.00e+00 0.00e+00   0\n",
      "   1  3.6162529e-04 2.11e-01 1.21e+00  -1.0 2.13e+01    -  4.13e-03 7.96e-03h  1\n",
      "   2  7.2047129e-02 1.84e-01 1.80e+02  -1.0 1.99e+01    -  8.63e-03 1.21e-01f  1\n",
      "   3  1.9596818e-01 1.61e-01 2.38e+02  -1.0 7.26e+00    -  2.12e-02 1.28e-01f  1\n",
      "   4  3.6920466e-01 1.79e-01 4.74e+02  -1.0 9.49e+00    -  7.74e-02 2.24e-01f  1\n",
      "   5  4.7031831e-01 1.62e-01 3.65e+02  -1.0 7.55e+00   0.0 1.31e-01 1.37e-01h  1\n",
      "   6  7.6624382e-01 1.29e-01 2.06e+02  -1.0 4.39e+00    -  1.09e-01 4.16e-01h  1\n",
      "   7  7.5657658e-01 9.06e-02 1.39e+02  -1.0 5.18e+00    -  1.83e-01 2.46e-01f  1\n",
      "   8  7.7810371e-01 4.43e-02 6.89e+01  -1.0 3.40e+00    -  2.13e-01 5.27e-01h  1\n",
      "   9  7.6985496e-01 7.01e-03 4.24e+01  -1.0 1.05e+00    -  5.45e-01 9.90e-01h  1\n",
      "iter    objective    inf_pr   inf_du lg(mu)  ||d||  lg(rg) alpha_du alpha_pr  ls\n",
      "  10  6.7793534e-01 2.44e-03 1.49e+03  -1.0 4.78e-01    -  8.33e-01 9.91e-01f  1\n",
      "  11  5.5235399e-01 2.29e-02 2.77e+05  -1.0 3.62e+00    -  7.06e-01 1.00e+00f  1\n",
      "  12  5.7585036e-01 5.28e-03 3.80e+05  -1.0 3.52e+00    -  9.59e-01 1.00e+00f  1\n",
      "  13  5.7579170e-01 1.80e-05 3.50e-03  -1.0 1.28e-01    -  1.00e+00 1.00e+00h  1\n",
      "  14  5.7486668e-01 1.96e-06 1.73e+05  -5.7 1.66e-02    -  9.83e-01 1.00e+00h  1\n",
      "  15  5.5482444e-01 7.98e-04 8.56e+04  -5.7 5.91e-01    -  5.04e-01 1.00e+00f  1\n",
      "  16  5.5008171e-01 1.88e-04 3.80e+04  -5.7 4.86e-01    -  5.56e-01 1.00e+00h  1\n",
      "  17  5.4827586e-01 1.07e-04 4.26e+03  -5.7 2.60e-01    -  8.88e-01 1.00e+00h  1\n",
      "  18  5.4715825e-01 1.87e-04 9.20e+02  -5.7 2.35e-01    -  7.84e-01 1.00e+00h  1\n",
      "  19  5.4666895e-01 3.72e-05 6.32e+02  -5.7 2.81e-01    -  3.13e-01 1.00e+00h  1\n",
      "iter    objective    inf_pr   inf_du lg(mu)  ||d||  lg(rg) alpha_du alpha_pr  ls\n",
      "  20  5.4655906e-01 7.66e-06 1.62e-03  -5.7 1.72e-01    -  1.00e+00 8.82e-01h  1\n",
      "  21  5.4652471e-01 6.48e-07 4.84e-07  -5.7 3.92e-02    -  1.00e+00 1.00e+00f  1\n",
      "  22  5.4649352e-01 6.29e-07 1.33e+01  -8.6 4.33e-02    -  9.32e-01 8.60e-01h  1\n",
      "  23  5.4648630e-01 9.06e-08 8.24e-01  -8.6 1.28e-02    -  9.94e-01 9.65e-01h  1\n",
      "  24  5.4648580e-01 9.52e-09 4.08e-02  -8.6 3.89e-03    -  1.00e+00 9.55e-01f  1\n",
      "  25  5.4648578e-01 4.71e-10 8.88e-09  -8.6 1.24e-03    -  1.00e+00 1.00e+00f  1\n",
      "\n",
      "Number of Iterations....: 25\n",
      "\n",
      "                                   (scaled)                 (unscaled)\n",
      "Objective...............:   5.4648577554031030e-01    5.4648577554031030e-01\n",
      "Dual infeasibility......:   8.8821196430818872e-09    8.8821196430818872e-09\n",
      "Constraint violation....:   4.7078525799992832e-10    4.7078525799992832e-10\n",
      "Variable bound violation:   0.0000000000000000e+00    0.0000000000000000e+00\n",
      "Complementarity.........:   4.9440028037147949e-09    4.9440028037147949e-09\n",
      "Overall NLP error.......:   8.8821196430818872e-09    8.8821196430818872e-09\n",
      "\n",
      "\n",
      "Number of objective function evaluations             = 26\n",
      "Number of objective gradient evaluations             = 26\n",
      "Number of equality constraint evaluations            = 26\n",
      "Number of inequality constraint evaluations          = 26\n",
      "Number of equality constraint Jacobian evaluations   = 26\n",
      "Number of inequality constraint Jacobian evaluations = 26\n",
      "Number of Lagrangian Hessian evaluations             = 25\n",
      "Total seconds in IPOPT                               = 0.879\n",
      "\n",
      "EXIT: Optimal Solution Found.\n",
      "      solver  :   t_proc      (avg)   t_wall      (avg)    n_eval\n",
      "       nlp_f  | 587.00us ( 22.58us) 580.83us ( 22.34us)        26\n",
      "       nlp_g  |   6.12ms (235.38us)   6.01ms (231.03us)        26\n",
      "  nlp_grad_f  | 944.00us ( 34.96us) 944.96us ( 35.00us)        27\n",
      "  nlp_hess_l  | 571.34ms ( 22.85ms) 569.95ms ( 22.80ms)        25\n",
      "   nlp_jac_g  | 210.86ms (  7.81ms) 210.39ms (  7.79ms)        27\n",
      "       total  | 882.18ms (882.18ms) 880.10ms (880.10ms)         1\n"
     ]
    }
   ],
   "source": [
    "sol = opti_problem.solve()"
   ]
  },
  {
   "cell_type": "code",
   "execution_count": 16,
   "metadata": {},
   "outputs": [],
   "source": [
    "# plt.spy(sol.value(cs.jacobian(opti_problem.g,opti_problem.x)))\n",
    "# plt.show()"
   ]
  },
  {
   "cell_type": "code",
   "execution_count": 17,
   "metadata": {},
   "outputs": [],
   "source": [
    "q_opt = opti_problem.value(q)\n",
    "u_opt = opti_problem.value(u)\n",
    "# q_opt"
   ]
  },
  {
   "cell_type": "code",
   "execution_count": 18,
   "metadata": {},
   "outputs": [
    {
     "data": {
      "text/plain": [
       "(DM([0.2, 0.2, 0.36]), array([0.2 , 0.2 , 0.36]))"
      ]
     },
     "execution_count": 18,
     "metadata": {},
     "output_type": "execute_result"
    }
   ],
   "source": [
    "darli_model.body('ee').position(q_opt[-1]), opti_problem.value(desired_pos)"
   ]
  },
  {
   "cell_type": "code",
   "execution_count": 19,
   "metadata": {},
   "outputs": [
    {
     "data": {
      "image/png": "[encoded data removed]",
      "text/plain": [
       "<Figure size 500x300 with 1 Axes>"
      ]
     },
     "metadata": {},
     "output_type": "display_data"
    }
   ],
   "source": [
    "t = np.linspace(0, tf, ns)\n",
    "\n",
    "plt.title(r'Angles in joints')\n",
    "plt.plot(t, q_opt)\n",
    "plt.grid(True)\n",
    "plt.ylabel(r'Angles $q(t)$ (rad)')\n",
    "plt.xlabel(r'Time $t$ (s)')\n",
    "plt.show()"
   ]
  },
  {
   "cell_type": "code",
   "execution_count": 20,
   "metadata": {},
   "outputs": [
    {
     "data": {
      "image/png": "[encoded data removed]",
      "text/plain": [
       "<Figure size 500x300 with 1 Axes>"
      ]
     },
     "metadata": {},
     "output_type": "display_data"
    }
   ],
   "source": [
    "\n",
    "plt.title(r'Torque in joints')\n",
    "plt.hlines(-u_max, 0, tf-dt, color = 'black', linestyle = '--', alpha = 0.8)\n",
    "plt.hlines(u_max, 0, tf-dt, color = 'black', linestyle = '--', alpha = 0.8)\n",
    "plt.plot(t[:-1], u_opt)\n",
    "plt.grid(True)\n",
    "plt.ylabel(r'Speed $\\dot{q}(t)$ (rad)')\n",
    "plt.xlabel(r'Time $t$ (s)')\n",
    "plt.show()"
   ]
  }
 ],
 "metadata": {
  "kernelspec": {
   "display_name": "base",
   "language": "python",
   "name": "python3"
  },
  "language_info": {
   "codemirror_mode": {
    "name": "ipython",
    "version": 3
   },
   "file_extension": ".py",
   "mimetype": "text/x-python",
   "name": "python",
   "nbconvert_exporter": "python",
   "pygments_lexer": "ipython3",
   "version": "3.10.13"
  },
  "orig_nbformat": 4
 },
 "nbformat": 4,
 "nbformat_minor": 2
}
