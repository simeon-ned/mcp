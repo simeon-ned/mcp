{
 "cells": [
  {
   "cell_type": "code",
   "execution_count": 1,
   "metadata": {},
   "outputs": [],
   "source": [
    "import numpy as np\n",
    "from darli.model import Model, Functional\n",
    "from darli.backend import CasadiBackend\n",
    "import casadi as cs\n"
   ]
  },
  {
   "cell_type": "code",
   "execution_count": 2,
   "metadata": {},
   "outputs": [],
   "source": [
    "%%capture\n",
    "!pip3 install robot_descriptions\n",
    "from robot_descriptions import iiwa_description, z1_description"
   ]
  },
  {
   "cell_type": "code",
   "execution_count": 3,
   "metadata": {},
   "outputs": [],
   "source": [
    "model = Functional(CasadiBackend(z1_description.URDF_PATH))\n"
   ]
  },
  {
   "cell_type": "code",
   "execution_count": 4,
   "metadata": {},
   "outputs": [],
   "source": [
    "model.add_body({'ee': \"link06\"})"
   ]
  },
  {
   "cell_type": "code",
   "execution_count": 5,
   "metadata": {},
   "outputs": [],
   "source": [
    "opti_problem = cs.Opti()\n",
    "q = opti_problem.variable(model.nq)"
   ]
  },
  {
   "cell_type": "code",
   "execution_count": 6,
   "metadata": {},
   "outputs": [],
   "source": [
    "pos = model.body('ee').position(q)\n",
    "gravity = model.inverse_dynamics(q, 0, 0)"
   ]
  },
  {
   "cell_type": "code",
   "execution_count": 7,
   "metadata": {},
   "outputs": [],
   "source": [
    "# TODO: move to parameters\n",
    "desired_pos = opti_problem.parameter(3)\n"
   ]
  },
  {
   "cell_type": "code",
   "execution_count": 8,
   "metadata": {},
   "outputs": [],
   "source": [
    "cost = cs.sumsqr(pos - desired_pos) + 0.00*cs.sumsqr(gravity)\n",
    "opti_problem.minimize(cost)\n",
    "opti_problem.subject_to(opti_problem.bounded(model.q_min, q, model.q_max))\n",
    "opti_problem.solver('ipopt')"
   ]
  },
  {
   "cell_type": "code",
   "execution_count": 9,
   "metadata": {},
   "outputs": [],
   "source": [
    "opti_problem.set_value(desired_pos,[0.2, 0.2, 0.36])"
   ]
  },
  {
   "cell_type": "code",
   "execution_count": 10,
   "metadata": {},
   "outputs": [
    {
     "name": "stdout",
     "output_type": "stream",
     "text": [
      "\n",
      "******************************************************************************\n",
      "This program contains Ipopt, a library for large-scale nonlinear optimization.\n",
      " Ipopt is released as open source code under the Eclipse Public License (EPL).\n",
      "         For more information visit https://github.com/coin-or/Ipopt\n",
      "******************************************************************************\n",
      "\n",
      "This is Ipopt version 3.14.11, running with linear solver MUMPS 5.4.1.\n",
      "\n",
      "Number of nonzeros in equality constraint Jacobian...:        0\n",
      "Number of nonzeros in inequality constraint Jacobian.:        6\n",
      "Number of nonzeros in Lagrangian Hessian.............:       15\n",
      "\n",
      "Total number of variables............................:        6\n",
      "                     variables with only lower bounds:        0\n",
      "                variables with lower and upper bounds:        0\n",
      "                     variables with only upper bounds:        0\n",
      "Total number of equality constraints.................:        0\n",
      "Total number of inequality constraints...............:        6\n",
      "        inequality constraints with only lower bounds:        0\n",
      "   inequality constraints with lower and upper bounds:        6\n",
      "        inequality constraints with only upper bounds:        0\n",
      "\n",
      "iter    objective    inf_pr   inf_du lg(mu)  ||d||  lg(rg) alpha_du alpha_pr  ls\n",
      "   0  1.2508409e-01 0.00e+00 5.51e-02  -1.0 0.00e+00    -  0.00e+00 0.00e+00   0\n",
      "   1  1.0902179e-01 0.00e+00 1.68e-03  -1.0 1.10e-01    -  9.79e-01 1.00e+00f  1\n",
      "   2  4.5605482e-02 0.00e+00 1.14e-01  -1.7 7.63e-01    -  2.85e-01 1.00e+00f  1\n",
      "   3  4.1318362e-02 0.00e+00 2.22e-01  -2.5 6.01e+00    -  3.14e-01 2.08e-01f  2\n",
      "   4  3.0219268e-03 0.00e+00 2.53e-02  -2.5 4.46e-01    -  7.56e-01 1.00e+00f  1\n",
      "   5  2.5406199e-05 0.00e+00 1.92e-03  -3.8 1.12e-01    -  9.41e-01 1.00e+00f  1\n",
      "   6  1.5972772e-08 0.00e+00 3.06e-05  -3.8 2.27e-02    -  1.00e+00 1.00e+00f  1\n",
      "   7  2.4418038e-12 0.00e+00 9.76e-08  -5.7 2.31e-03    -  1.00e+00 1.00e+00f  1\n",
      "   8  4.0619922e-18 0.00e+00 9.37e-10  -8.6 2.33e-04    -  1.00e+00 1.00e+00f  1\n",
      "\n",
      "Number of Iterations....: 8\n",
      "\n",
      "                                   (scaled)                 (unscaled)\n",
      "Objective...............:   4.0619921705756952e-18    4.0619921705756952e-18\n",
      "Dual infeasibility......:   9.3730056172350574e-10    9.3730056172350574e-10\n",
      "Constraint violation....:   0.0000000000000000e+00    0.0000000000000000e+00\n",
      "Variable bound violation:   0.0000000000000000e+00    0.0000000000000000e+00\n",
      "Complementarity.........:   2.8355252118372827e-09    2.8355252118372827e-09\n",
      "Overall NLP error.......:   2.8355252118372827e-09    2.8355252118372827e-09\n",
      "\n",
      "\n",
      "Number of objective function evaluations             = 11\n",
      "Number of objective gradient evaluations             = 9\n",
      "Number of equality constraint evaluations            = 0\n",
      "Number of inequality constraint evaluations          = 11\n",
      "Number of equality constraint Jacobian evaluations   = 0\n",
      "Number of inequality constraint Jacobian evaluations = 9\n",
      "Number of Lagrangian Hessian evaluations             = 8\n",
      "Total seconds in IPOPT                               = 0.005\n",
      "\n",
      "EXIT: Optimal Solution Found.\n",
      "      solver  :   t_proc      (avg)   t_wall      (avg)    n_eval\n",
      "       nlp_f  | 531.00us ( 48.27us)  32.80us (  2.98us)        11\n",
      "       nlp_g  | 385.00us ( 35.00us)  20.89us (  1.90us)        11\n",
      "  nlp_grad_f  | 784.00us ( 78.40us)  48.32us (  4.83us)        10\n",
      "  nlp_hess_l  |   2.14ms (267.62us) 134.72us ( 16.84us)         8\n",
      "   nlp_jac_g  | 249.00us ( 24.90us)  15.10us (  1.51us)        10\n",
      "       total  |  91.95ms ( 91.95ms)   5.74ms (  5.74ms)         1\n"
     ]
    },
    {
     "data": {
      "text/plain": [
       "OptiSol(Opti {\n",
       "  instance #0\n",
       "  #variables: 1 (nx = 6)\n",
       "  #parameters: 1 (np = 3)\n",
       "  #constraints: 1 (ng = 6)\n",
       "  CasADi solver allocated.\n",
       "  CasADi solver was called: Solve_Succeeded\n",
       "})"
      ]
     },
     "execution_count": 10,
     "metadata": {},
     "output_type": "execute_result"
    }
   ],
   "source": [
    "opti_problem.solve()"
   ]
  },
  {
   "cell_type": "code",
   "execution_count": 11,
   "metadata": {},
   "outputs": [
    {
     "data": {
      "text/plain": [
       "array([ 0.80816954,  1.44786167, -1.05499299,  0.13724142, -0.1312743 ,\n",
       "        0.        ])"
      ]
     },
     "execution_count": 11,
     "metadata": {},
     "output_type": "execute_result"
    }
   ],
   "source": [
    "q_opt = opti_problem.value(q)\n",
    "q_opt"
   ]
  },
  {
   "cell_type": "code",
   "execution_count": 12,
   "metadata": {},
   "outputs": [
    {
     "data": {
      "text/plain": [
       "array([[0.2 ],\n",
       "       [0.2 ],\n",
       "       [0.36]])"
      ]
     },
     "execution_count": 12,
     "metadata": {},
     "output_type": "execute_result"
    }
   ],
   "source": [
    "np.array(model.body('ee').position(q_opt))"
   ]
  },
  {
   "cell_type": "code",
   "execution_count": 13,
   "metadata": {},
   "outputs": [
    {
     "name": "stdout",
     "output_type": "stream",
     "text": [
      "This is Ipopt version 3.14.11, running with linear solver MUMPS 5.4.1.\n",
      "\n",
      "Number of nonzeros in equality constraint Jacobian...:        0\n",
      "Number of nonzeros in inequality constraint Jacobian.:        6\n",
      "Number of nonzeros in Lagrangian Hessian.............:       15\n",
      "\n",
      "Total number of variables............................:        6\n",
      "                     variables with only lower bounds:        0\n",
      "                variables with lower and upper bounds:        0\n",
      "                     variables with only upper bounds:        0\n",
      "Total number of equality constraints.................:        0\n",
      "Total number of inequality constraints...............:        6\n",
      "        inequality constraints with only lower bounds:        0\n",
      "   inequality constraints with lower and upper bounds:        6\n",
      "        inequality constraints with only upper bounds:        0\n",
      "\n",
      "iter    objective    inf_pr   inf_du lg(mu)  ||d||  lg(rg) alpha_du alpha_pr  ls\n",
      "   0  2.9999999e-04 0.00e+00 4.00e-03  -1.0 0.00e+00    -  0.00e+00 0.00e+00   0\n",
      "   1  3.6141058e-04 0.00e+00 7.31e-05  -1.0 2.67e-02    -  1.00e+00 1.00e+00f  1\n",
      "   2  2.3644247e-05 0.00e+00 1.82e-04  -2.5 4.97e-02    -  1.00e+00 1.00e+00f  1\n",
      "   3  4.2187148e-08 0.00e+00 1.37e-05  -3.8 1.30e-02    -  1.00e+00 1.00e+00f  1\n",
      "   4  2.6465407e-12 0.00e+00 6.92e-08  -5.7 1.89e-03    -  1.00e+00 1.00e+00f  1\n",
      "   5  3.7195057e-18 0.00e+00 6.70e-10  -8.6 1.95e-04    -  1.00e+00 1.00e+00f  1\n",
      "\n",
      "Number of Iterations....: 5\n",
      "\n",
      "                                   (scaled)                 (unscaled)\n",
      "Objective...............:   3.7195057442203975e-18    3.7195057442203975e-18\n",
      "Dual infeasibility......:   6.6988787810379248e-10    6.6988787810379248e-10\n",
      "Constraint violation....:   0.0000000000000000e+00    0.0000000000000000e+00\n",
      "Variable bound violation:   0.0000000000000000e+00    0.0000000000000000e+00\n",
      "Complementarity.........:   2.7846447319502092e-09    2.7846447319502092e-09\n",
      "Overall NLP error.......:   2.7846447319502092e-09    2.7846447319502092e-09\n",
      "\n",
      "\n",
      "Number of objective function evaluations             = 6\n",
      "Number of objective gradient evaluations             = 6\n",
      "Number of equality constraint evaluations            = 0\n",
      "Number of inequality constraint evaluations          = 6\n",
      "Number of equality constraint Jacobian evaluations   = 0\n",
      "Number of inequality constraint Jacobian evaluations = 6\n",
      "Number of Lagrangian Hessian evaluations             = 5\n",
      "Total seconds in IPOPT                               = 0.003\n",
      "\n",
      "EXIT: Optimal Solution Found.\n",
      "      solver  :   t_proc      (avg)   t_wall      (avg)    n_eval\n",
      "       nlp_f  | 772.00us ( 45.41us)  49.61us (  2.92us)        17\n",
      "       nlp_g  | 583.00us ( 34.29us)  33.51us (  1.97us)        17\n",
      "    nlp_grad  |  79.00us ( 79.00us)   4.78us (  4.78us)         1\n",
      "  nlp_grad_f  |   1.31ms ( 77.18us)  83.76us (  4.93us)        17\n",
      "  nlp_hess_l  |   3.58ms (275.38us) 235.52us ( 18.12us)        13\n",
      "   nlp_jac_g  | 413.00us ( 24.29us)  26.35us (  1.55us)        17\n",
      "       total  |  51.67ms ( 51.67ms)   3.54ms (  3.54ms)         1\n"
     ]
    },
    {
     "data": {
      "text/plain": [
       "OptiSol(Opti {\n",
       "  instance #0\n",
       "  #variables: 1 (nx = 6)\n",
       "  #parameters: 1 (np = 3)\n",
       "  #constraints: 1 (ng = 6)\n",
       "  CasADi solver allocated.\n",
       "  CasADi solver was called: Solve_Succeeded\n",
       "})"
      ]
     },
     "execution_count": 13,
     "metadata": {},
     "output_type": "execute_result"
    }
   ],
   "source": [
    "# opti_problem.solver('sqpmethod')\n",
    "opti_problem.set_initial(q,q_opt)\n",
    "opti_problem.set_value(desired_pos,[0.19, 0.21, 0.37])\n",
    "opti_problem.solve()"
   ]
  }
 ],
 "metadata": {
  "kernelspec": {
   "display_name": "base",
   "language": "python",
   "name": "python3"
  },
  "language_info": {
   "codemirror_mode": {
    "name": "ipython",
    "version": 3
   },
   "file_extension": ".py",
   "mimetype": "text/x-python",
   "name": "python",
   "nbconvert_exporter": "python",
   "pygments_lexer": "ipython3",
   "version": "3.10.13"
  },
  "orig_nbformat": 4
 },
 "nbformat": 4,
 "nbformat_minor": 2
}
