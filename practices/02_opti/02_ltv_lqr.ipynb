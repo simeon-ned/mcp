{
 "cells": [
  {
   "cell_type": "code",
   "execution_count": 1,
   "metadata": {},
   "outputs": [],
   "source": [
    "import numpy as np\n",
    "\n",
    "def dlqr_ltv(A, B, Q, R):\n",
    "    '''Discrete time LTV LQR controller'''\n",
    "    N = np.shape(A)[0]\n",
    "    n = np.shape(A)[1]\n",
    "    m = np.shape(B)[2]\n",
    "\n",
    "    # Matrix to store cost-to-go\n",
    "    P = np.zeros((N, n, n))\n",
    "    P[0] = Q[-1]\n",
    "    # Matrix to store gains\n",
    "    K = np.zeros((N, m, n))\n",
    "\n",
    "    for k in range(N-1, -1):\n",
    "        # Compute the LQR gain\n",
    "        invM_k = np.linalg.inv((R[k] + B[k].T @ P[k+1] @ B[k]))\n",
    "        K[k] = invM_k @ B[k].T @ P[k+1] @ A[k]\n",
    "        Ac_k = A[k] - B[k] @ K[k]   # Update with difference Riccati equation\n",
    "        # Compute cost-to-go matrix\n",
    "        P[k] = Q[k] + K[k].T @ R[k] @ K[k] + Ac_k @ P[k+1] @ Ac_k\n",
    "    return K, P"
   ]
  }
 ],
 "metadata": {
  "kernelspec": {
   "display_name": "base",
   "language": "python",
   "name": "python3"
  },
  "language_info": {
   "codemirror_mode": {
    "name": "ipython",
    "version": 3
   },
   "file_extension": ".py",
   "mimetype": "text/x-python",
   "name": "python",
   "nbconvert_exporter": "python",
   "pygments_lexer": "ipython3",
   "version": "3.10.13"
  },
  "orig_nbformat": 4
 },
 "nbformat": 4,
 "nbformat_minor": 2
}
