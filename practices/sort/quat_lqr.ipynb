{
 "cells": [
  {
   "cell_type": "code",
   "execution_count": 1,
   "metadata": {},
   "outputs": [],
   "source": [
    "import numpy as np\n",
    "\n",
    "from scipy.linalg import solve_continuous_are\n",
    "\n",
    "# from darli.models import RobotModel\n",
    "import casadi as cs"
   ]
  },
  {
   "cell_type": "code",
   "execution_count": 2,
   "metadata": {},
   "outputs": [],
   "source": [
    "H = np.vstack((np.zeros((1, 3)), np.eye(3)))\n",
    "\n",
    "def hat(v):\n",
    "    \"\"\"\n",
    "    Generate the skew-symmetric matrix (hat operator) for a 3D vector.\n",
    "    \n",
    "    Args:\n",
    "        v (cs.SX): A 3-element CasADi symbolic column vector.\n",
    "\n",
    "    Returns:\n",
    "        cs.SX: A 3x3 skew-symmetric matrix.\n",
    "    \"\"\"\n",
    "    return cs.blockcat([[0, -v[2], v[1]],\n",
    "            [v[2], 0, -v[0]],\n",
    "            [-v[1], v[0], 0]])\n",
    "\n",
    "\n",
    "def L(q):\n",
    "    \"\"\"\n",
    "    Generate the left quaternion multiplication matrix.\n",
    "    \n",
    "    Args:\n",
    "        q (cs.SX): A 4-element quaternion represented as a CasADi symbolic column vector.\n",
    "\n",
    "    Returns:\n",
    "        cs.SX: A 4x4 matrix for left quaternion multiplication.\n",
    "    \"\"\"\n",
    "    s = q[0]\n",
    "    v = q[1:4]\n",
    "    return cs.vertcat(\n",
    "        cs.horzcat(s, -v.T),\n",
    "        cs.horzcat(v, s * cs.SX.eye(3) + hat(v))\n",
    "    )\n",
    "\n",
    "def G(q):\n",
    "    \"\"\"\n",
    "    Generate the matrix for quaternion and angular velocity multiplication.\n",
    "    \n",
    "    Args:\n",
    "        q (cs.SX): A 4-element quaternion represented as a CasADi symbolic column vector.\n",
    "\n",
    "    Returns:\n",
    "        cs.SX: A 4x3 matrix used in quaternion rate calculations.\n",
    "    \"\"\"\n",
    "    \n",
    "    return L(q) @ H\n",
    "\n",
    "def rptoq(phi):\n",
    "    \"\"\"\n",
    "    Convert a rotation vector to a quaternion.\n",
    "    \n",
    "    Args:\n",
    "        phi (cs.SX): A 3-element rotation vector represented as a CasADi symbolic column vector.\n",
    "\n",
    "    Returns:\n",
    "        cs.SX: A quaternion represented as a 4-element CasADi symbolic column vector.\n",
    "    \"\"\"\n",
    "    norm_phi = cs.sqrt(cs.dot(phi, phi))\n",
    "    return cs.vertcat(1, phi) / cs.sqrt(1 + norm_phi**2)\n",
    "\n",
    "def qtorp(q):\n",
    "    \"\"\"\n",
    "    Convert a quaternion to a rotation vector.\n",
    "    \n",
    "    Args:\n",
    "        q (cs.SX): A quaternion represented as a 4-element CasADi symbolic column vector.\n",
    "\n",
    "    Returns:\n",
    "        cs.SX: A 3-element rotation vector represented as a CasADi symbolic column vector.\n",
    "    \"\"\"\n",
    "    return q[1:4] / q[0]\n",
    "\n",
    "def qtoR(q):\n",
    "    \"\"\"\n",
    "    Generate the rotation matrix from a quaternion.\n",
    "    \n",
    "    Args:\n",
    "        q (cs.SX): A quaternion represented as a 4-element CasADi symbolic column vector.\n",
    "\n",
    "    Returns:\n",
    "        cs.SX: A 3x3 rotation matrix.\n",
    "    \"\"\"\n",
    "    T = np.eye(4)\n",
    "    T[1, 1] = -1\n",
    "    T[2, 2] = -1\n",
    "    T[3, 3] = -1\n",
    "    return H.T @ T @ L(q) @ T @ L(q) @ H\n",
    "\n",
    "def E(state):\n",
    "    \"\"\"\n",
    "    Construct the state transition matrix for the quadrotor system.\n",
    "    \n",
    "    Args:\n",
    "        q (cs.SX): A quaternion represented as a 4-element CasADi symbolic column vector.\n",
    "\n",
    "    Returns:\n",
    "        cs.SX: A 13x13 state transition matrix.\n",
    "    \"\"\"\n",
    "    q = state[3:7]      # Orientation (quaternion)\n",
    "    return cs.blockcat([[cs.SX.eye(3), cs.SX.zeros(3, 3), cs.SX.zeros(3, 6)], \n",
    "             [cs.SX.zeros(4, 3), G(q), cs.SX.zeros(4, 6)],\n",
    "             [cs.SX.zeros(6, 3), cs.SX.zeros(6, 3), cs.SX.eye(6)]])\n",
    "\n",
    "    \n"
   ]
  },
  {
   "cell_type": "code",
   "execution_count": 3,
   "metadata": {},
   "outputs": [],
   "source": [
    "# Quadrotor parameters\n",
    "m = 0.5\n",
    "l = 0.1750\n",
    "J = np.diag([0.0023, 0.0023, 0.004])\n",
    "g = 9.81\n",
    "kt = 1.0\n",
    "km = 0.0245\n",
    "\n",
    "# Thrust force mapping\n",
    "thrust_mapping = np.array([[0, 0, 0, 0],\n",
    "                           [0, 0, 0, 0],\n",
    "                           [kt, kt, kt, kt]])\n",
    "\n",
    "# Torque mapping\n",
    "torque_mapping = np.array([[0, l*kt, 0, -l*kt],\n",
    "                           [-l*kt, 0, l*kt, 0],\n",
    "                           [km, -km, km, -km]])"
   ]
  },
  {
   "cell_type": "code",
   "execution_count": 4,
   "metadata": {},
   "outputs": [],
   "source": [
    "def quad_dynamics(x, u):\n",
    "    \"\"\"\n",
    "    Compute the dynamics of the quadrotor.\n",
    "    \n",
    "    Args:\n",
    "        x (cs.SX): The state vector of the quadrotor, including position, orientation (quaternion), linear velocity, and angular velocity.\n",
    "        u (cs.SX): The control input vector for the quadrotor (e.g., motor thrusts).\n",
    "\n",
    "    Returns:\n",
    "        cs.SX: The time derivative of the state vector.\n",
    "    \"\"\"\n",
    "    # Extract the components of the state vector\n",
    "    r = x[0:3]      # Position\n",
    "    q = x[3:7]      # Orientation (quaternion)\n",
    "    v = x[7:10]     #Linear velocity\n",
    "    omega = x[10:13]  # Angular velocity\n",
    "\n",
    "    # Normalize the quaternion to prevent drift over time\n",
    "    q = q / cs.norm_2(q)\n",
    "\n",
    "    # Convert quaternion to rotation matrix for world to body frame transformation\n",
    "    R = qtoR(q)\n",
    "\n",
    "    # Compute the derivatives of the state vector\n",
    "    r_dot = R @ v\n",
    "    q_dot = 0.5 * L(q) @ H @ omega\n",
    "    v_dot = R.T @ np.array([0,0,-g]) - hat(omega) @ v + (1 / m) * thrust_mapping @ u \n",
    "    omega_dot = cs.solve(J, -hat(omega) @ J @ omega + torque_mapping@u)\n",
    "\n",
    "    # Concatenate derivatives into a single column vector\n",
    "    return cs.vertcat(r_dot, q_dot, v_dot, omega_dot)\n"
   ]
  },
  {
   "cell_type": "code",
   "execution_count": 5,
   "metadata": {},
   "outputs": [],
   "source": [
    "# Control inputs (thrusts from the 4 motors)\n",
    "u = cs.SX.sym('u', 4)\n",
    "# State variables\n",
    "x = cs.SX.sym('x', 13) # Assuming the state vector x contains position (3), orientation (quaternion, 4), linear velocity (3), and angular velocity (3)\n",
    "h = cs.SX.sym('h', 1)\n",
    "q = x[3:7]\n"
   ]
  },
  {
   "cell_type": "code",
   "execution_count": 6,
   "metadata": {},
   "outputs": [],
   "source": [
    "# RK4 integration for quadrotor dynamics\n",
    "def floating_dynamics_rk4(x, u, h):\n",
    "    # Define the Runge-Kutta 4th order stages\n",
    "    f1 = quad_dynamics(x, u)\n",
    "    f2 = quad_dynamics(x + 0.5 * h * f1, u)\n",
    "    f3 = quad_dynamics(x + 0.5 * h * f2, u)\n",
    "    f4 = quad_dynamics(x + h * f3, u)\n",
    "\n",
    "    # Combine the stages to compute the final state after one time step\n",
    "    xn = x + (h / 6.0) * (f1 + 2 * f2 + 2 * f3 + f4)\n",
    "\n",
    "    # Re-normalize the quaternion part of the state vector\n",
    "    # CasADi has a different syntax for vector/matrix norms: use ca.norm_2\n",
    "    q_norm = cs.norm_2(xn[3:7])\n",
    "    xn[3:7] = xn[3:7] / q_norm\n",
    "\n",
    "    return xn"
   ]
  },
  {
   "cell_type": "code",
   "execution_count": 7,
   "metadata": {},
   "outputs": [],
   "source": [
    "# Create a CasADi function for the RK4 integration step\n",
    "quad_dynamics_rk4_step = cs.Function('quad_dynamics_rk4_step', [x, u, h], [floating_dynamics_rk4(x, u, h)])"
   ]
  },
  {
   "cell_type": "code",
   "execution_count": 8,
   "metadata": {},
   "outputs": [],
   "source": [
    "\n",
    "# Calculate the Jacobians using CasADi\n",
    "A_casadi = cs.jacobian(quad_dynamics_rk4_step(x, u, h), x)\n",
    "B_casadi = cs.jacobian(quad_dynamics_rk4_step(x, u, h), u)\n",
    "\n",
    "# Create functions to calculate the Jacobians\n",
    "A_func = cs.Function('A_func', [x, u, h], [A_casadi])\n",
    "B_func = cs.Function('B_func', [x, u, h], [B_casadi])\n",
    "E_func = cs.Function('E_func', [x], [E(x)])\n",
    "L_func = cs.Function('L_func', [q], [L(q)])"
   ]
  },
  {
   "cell_type": "code",
   "execution_count": 9,
   "metadata": {},
   "outputs": [],
   "source": [
    "# Simulation parameters\n",
    "dt = 0.001\n",
    "Nx = 13\n",
    "Nxt = 12\n",
    "Nu = 4\n",
    "Tfinal = 5.0\n",
    "Nt = int(Tfinal / dt) + 1\n",
    "thist = np.arange(0, dt * (Nt - 1), step=dt)"
   ]
  },
  {
   "cell_type": "code",
   "execution_count": 10,
   "metadata": {},
   "outputs": [],
   "source": [
    "# Initial Conditions\n",
    "u0 = (m * g / 4) * np.ones(4)\n",
    "r0 = np.array([0.0, 0, 1.0])\n",
    "q0 = np.array([1.0, 0, 0, 0])\n",
    "v0 = np.zeros(3)\n",
    "omega0 = np.zeros(3)\n",
    "x0 = np.concatenate((r0, q0, v0, omega0))"
   ]
  },
  {
   "cell_type": "code",
   "execution_count": 11,
   "metadata": {},
   "outputs": [],
   "source": [
    "A = np.array(A_func(x0, u0, dt))\n",
    "B = np.array(B_func(x0, u0, dt))"
   ]
  },
  {
   "cell_type": "code",
   "execution_count": 12,
   "metadata": {},
   "outputs": [],
   "source": [
    "# Reduced system (assuming the E(q) function returns a numpy array)\n",
    "A_r = np.array(E_func(x0).T @ A_func(x0, u0, dt) @ E_func(x0))\n",
    "B_r = np.array(E_func(x0).T @ B_func(x0, u0, dt))"
   ]
  },
  {
   "cell_type": "code",
   "execution_count": 13,
   "metadata": {},
   "outputs": [],
   "source": [
    "from scipy.linalg import solve_discrete_are as dare\n",
    "\n",
    "def dlqr(A, B, Q, R):\n",
    "    '''Discrete time LTI LQR'''\n",
    "    # Solve discrete Ricatti equation (DARE)\n",
    "    P = dare(A, B, Q, R)\n",
    "    # Compute the LQR gain\n",
    "    K = np.linalg.inv(B.T @ P @ B + R) @ (B.T @ P @ A)\n",
    "    return K, P\n"
   ]
  },
  {
   "cell_type": "code",
   "execution_count": 14,
   "metadata": {},
   "outputs": [],
   "source": [
    "\n",
    "# Cost weights\n",
    "Q = np.eye(Nxt)\n",
    "R = 0.1 * np.eye(Nu)\n",
    "\n",
    "# LQR Controller\n",
    "K, P = dlqr(A_r, B_r, Q, R)\n",
    "\n",
    "# Feedback controller\n",
    "def controller(x):\n",
    "    q0 = x0[3:7]\n",
    "    q = x[3:7]\n",
    "    q_error = L_func(q0).T @ q\n",
    "    phi = np.array(qtorp(q_error)).reshape(3,)\n",
    "    \n",
    "    delta_x_tilde = np.concatenate((x[0:3] - r0, phi, x[7:10] - v0, x[10:13] - omega0))\n",
    "    \n",
    "    u = u0 - K @ delta_x_tilde\n",
    "    return u\n",
    "\n"
   ]
  },
  {
   "cell_type": "code",
   "execution_count": 15,
   "metadata": {},
   "outputs": [],
   "source": [
    "# Simulation\n",
    "uhist = np.zeros((Nu, Nt))\n",
    "xhist = np.zeros((Nx, Nt))\n",
    "xhist[:, 0] = np.concatenate((r0 + np.random.randn(3), np.array(L_func(q0) @ rptoq(np.array([1, 0, 0]))).reshape(4,), v0, omega0))\n",
    "for k in range(Nt - 1):\n",
    "    uhist[:, k] = controller(xhist[:, k])\n",
    "    xhist[:, k + 1] = np.array(quad_dynamics_rk4_step(xhist[:, k], uhist[:, k], dt)).reshape(13,)"
   ]
  },
  {
   "cell_type": "code",
   "execution_count": 16,
   "metadata": {},
   "outputs": [
    {
     "data": {
      "text/plain": [
       "array([-2.38311627e-03, -1.67415821e-02,  9.94644818e-01,  9.99998783e-01,\n",
       "        8.82828417e-04, -1.08109258e-04,  1.28150079e-03,  2.30156980e-03,\n",
       "        1.67969209e-02,  5.37955067e-03, -1.90038227e-03,  2.11552862e-04,\n",
       "       -1.28160942e-03])"
      ]
     },
     "execution_count": 16,
     "metadata": {},
     "output_type": "execute_result"
    }
   ],
   "source": [
    "xhist[:,-1]"
   ]
  }
 ],
 "metadata": {
  "kernelspec": {
   "display_name": "base",
   "language": "python",
   "name": "python3"
  },
  "language_info": {
   "codemirror_mode": {
    "name": "ipython",
    "version": 3
   },
   "file_extension": ".py",
   "mimetype": "text/x-python",
   "name": "python",
   "nbconvert_exporter": "python",
   "pygments_lexer": "ipython3",
   "version": "3.10.12"
  },
  "orig_nbformat": 4
 },
 "nbformat": 4,
 "nbformat_minor": 2
}
