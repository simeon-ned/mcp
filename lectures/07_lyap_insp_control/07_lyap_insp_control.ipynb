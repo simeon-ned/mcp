{
 "cells": [
  {
   "cell_type": "code",
   "execution_count": 18,
   "metadata": {
    "slideshow": {
     "slide_type": "skip"
    }
   },
   "outputs": [],
   "source": [
    "from utils import simulate, phase_portrait, phase_graph\n",
    "from numpy import linspace\n",
    "from matplotlib.pyplot import *\n",
    "rc('text', usetex=True)"
   ]
  },
  {
   "cell_type": "markdown",
   "metadata": {
    "slideshow": {
     "slide_type": "slide"
    }
   },
   "source": [
    "## **Applied Nonlinear Control:**\n",
    "### **Lecture 4: Invariant Set, Lassalle Principle, Region of Attraction, Convergence Rates**"
   ]
  },
  {
   "cell_type": "markdown",
   "metadata": {},
   "source": [
    "CONTROL LYAPUNOV FUNCTIONS"
   ]
  },
  {
   "cell_type": "markdown",
   "metadata": {},
   "source": [
    "CONTROL AS OPTIMIZATION"
   ]
  },
  {
   "cell_type": "markdown",
   "metadata": {},
   "source": [
    "ADDING HOLONOMYC AND NONHOLONOMIC CONSTRAINTS"
   ]
  },
  {
   "cell_type": "markdown",
   "metadata": {},
   "source": [
    "BARRIER FUNCTIONS AND SAFETY "
   ]
  },
  {
   "cell_type": "markdown",
   "metadata": {},
   "source": [
    "MERGING SAFETY AND STABILITY"
   ]
  },
  {
   "cell_type": "markdown",
   "metadata": {
    "slideshow": {
     "slide_type": "slide"
    }
   },
   "source": [
    "### **Convergence Rates**\n",
    "\n",
    "One can use tha Lyapunov like arguments to deduce not only stability but the **convergence rates** for trajectories, let us consider the real function $V(t)$ that satisfy inequality:\n",
    "$$\n",
    "    \\dot{V}(t) + \\alpha V(t)\\leq0\n",
    "$$\n",
    "where $\\alpha$ is real number, then:\n",
    "$$\n",
    "    V(t) \\leq V(0)e^{-\\alpha t}\n",
    "$$\n",
    "\n",
    "Thus one can estimate speed of convergence for system trajectories just by finding apropriate $V$"
   ]
  },
  {
   "cell_type": "markdown",
   "metadata": {
    "slideshow": {
     "slide_type": "slide"
    }
   },
   "source": [
    "### **Control Design Based on Lyapunov's Direct Method**\n",
    "\n",
    "Previously we have used Lyapunov's direct method for system analysis. In doing the analysis, we have implicitly presumed that certain control laws have been chosen for the systems. \n",
    "\n",
    "However, in many control problems, the **actual task** is to find an **appropriate control law** for a given plant. In the following, we briefly discuss how to apply Lyapunov's direct method for designing stable control\n",
    "systems. \n",
    "\n",
    "Most of the controller design methods we will describe in later classes are actually based on Lyapunov concepts."
   ]
  },
  {
   "cell_type": "markdown",
   "metadata": {
    "slideshow": {
     "slide_type": "slide"
    }
   },
   "source": [
    "\n",
    "There are basically two ways of using Lyapunov's direct method for control design, and both have a trial and error flavor:\n",
    "\n",
    "* The first technique involves **hypothesizing one form of control law** and then finding a Lyapunov function to justify the choice. \n",
    "* The second technique, conversely, requires **hypothesizing a Lyapunov\n",
    "function** candidate and then finding a control law to make this candidate a real\n",
    "Lyapunov function."
   ]
  },
  {
   "cell_type": "markdown",
   "metadata": {
    "slideshow": {
     "slide_type": "slide"
    }
   },
   "source": [
    "Consider the problem of stabilizing the system:\n",
    "\n",
    "\\begin{equation*}\n",
    "    \\ddot{x} - \\dot{x}^3 + x = u \n",
    "\\end{equation*}\n",
    "\n",
    "We are looking for controller in form: \n",
    "\\begin{equation*}\n",
    "    u(x,\\dot{x}) \n",
    "\\end{equation*}\n",
    "\n",
    "Let us choose Lyapunov candidate:\n",
    "\\begin{equation*}\n",
    "    V = \\frac{1}{2}x^2 + \\frac{1}{2}\\dot{x}^2\n",
    "\\end{equation*}\n",
    "\n",
    "Now one can deduce the control law that will stabilize the system!"
   ]
  },
  {
   "cell_type": "markdown",
   "metadata": {
    "slideshow": {
     "slide_type": "slide"
    }
   },
   "source": [
    "Assume now that you have the very same equation but with some uncertainty:\n",
    "\n",
    "\\begin{equation*}\n",
    "    \\ddot{x} + p\\dot{x}^3 + x + \\delta = u \n",
    "\\end{equation*}\n",
    "where $|p|\\leq p_{max}$ and $\\delta<|\\delta_{max}|$\n",
    "\n",
    "try to use Lyapunov tools to design the robust controller that will stabilize the system above for whatever $\\delta$ and $p$ "
   ]
  }
 ],
 "metadata": {
  "celltoolbar": "Слайд-шоу",
  "colab": {
   "collapsed_sections": [],
   "name": "symbolical_linearization.ipynb",
   "provenance": []
  },
  "kernelspec": {
   "display_name": "Python 3.8.10 64-bit",
   "language": "python",
   "name": "python3"
  },
  "language_info": {
   "codemirror_mode": {
    "name": "ipython",
    "version": 3
   },
   "file_extension": ".py",
   "mimetype": "text/x-python",
   "name": "python",
   "nbconvert_exporter": "python",
   "pygments_lexer": "ipython3",
   "version": "3.8.10"
  },
  "rise": {
   "enable_chalkboard": true,
   "scroll": true,
   "theme": "simple",
   "transition": "linear"
  },
  "vscode": {
   "interpreter": {
    "hash": "e7370f93d1d0cde622a1f8e1c04877d8463912d04d973331ad4851f04de6915a"
   }
  }
 },
 "nbformat": 4,
 "nbformat_minor": 2
}
