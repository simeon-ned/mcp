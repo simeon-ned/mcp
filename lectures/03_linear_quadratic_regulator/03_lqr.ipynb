{
 "cells": [
  {
   "cell_type": "markdown",
   "metadata": {
    "slideshow": {
     "slide_type": "slide"
    }
   },
   "source": [
    "## **Modern Control Paradigms:**\n",
    "### **Lecture 1: Basics of System Analysis and Control Design, Optimal Linear Control, Linear Quadratic Regulator**"
   ]
  },
  {
   "cell_type": "markdown",
   "metadata": {
    "slideshow": {
     "slide_type": "slide"
    }
   },
   "source": [
    "### **Basics of System Analysis and Control Design**"
   ]
  },
  {
   "cell_type": "markdown",
   "metadata": {},
   "source": [
    "ANALYSIS\n",
    "\n",
    "* PROPERTIES OF ODE\n",
    "* SOLUTIONS OF LTI ODE\n",
    "* STABILITY\n",
    "\n",
    "Nonlinear Systems:\n",
    "* LInearization \n",
    "* Lyapunov theory\n",
    "* How to use Lyapunov to check the PERFORMANCE\n",
    "\n",
    "CONTROL DESIGN\n",
    "* POLE PLACEMENT\n",
    "  * continues and descrete\n",
    "  * How to tune?\n",
    "  * NOTE CONTROLABILITY AND STABILIZABILITY\n",
    "* LQR\n",
    "  * Definition\n",
    "  * LTI, LTV\n",
    "  * Descrete version\n",
    "Linear Control over Nonlinear Systems\n",
    "  * Closed Loop response\n",
    "  * ROA via Lyapunov and Sampling\n",
    "\n",
    "Questions:\n",
    "* How to deal with constraints? i.e. input saturation, state constraints\n",
    "* Where to get physicaly feasible trajectory?"
   ]
  },
  {
   "cell_type": "markdown",
   "metadata": {
    "slideshow": {
     "slide_type": "slide"
    }
   },
   "source": [
    "## **System Analysis and Solutions of DE**\n",
    "As we have discussed there are several important differences between linear and nonlinear systems, \n",
    "such as number of equilibria, superposition response on harmonic signals etc.\n",
    "\n",
    "REWRITE INTRO\n",
    "\n",
    "However, the most fundamental and notable property is that **nonlinear systems in general does not admit closed form analytical solution** as a consequence it is desirable be able to make some **predictions** about behavior of nonlinear system **without actually solving associated ODE** but studying the **qualitative behavior** such as:\n",
    "* Existence and continuity of solutions\n",
    "* Solving for equilibrium states \n",
    "* Checking for existence of periodic trajectories, orbits, limit cycles\n",
    "* Tendency to remain in certain region of state space, convergence, stability \n"
   ]
  },
  {
   "cell_type": "markdown",
   "metadata": {},
   "source": [
    "\n",
    "There are different tools that facilitate this analysis."
   ]
  },
  {
   "cell_type": "markdown",
   "metadata": {},
   "source": [
    "### **Intro to Stability**\n",
    "\n",
    "Various types of stability may be discussed for the solutions of differential equations or difference equations describing dynamical systems. The one practically important type is that concerning the stability of solutions near to a point of equilibrium. This may be ,analyzed by the theory of **Aleksandr Lyapunov**. \n",
    "\n",
    "In simple terms, if the solutions that start out near an equilibrium point $\\mathbf{x}_{0}$ stay near $\\mathbf{x}_{0}$ forever, then $\\mathbf{x}_{0}$ is Lyapunov stable. More strongly, if $\\mathbf{x}_{0}$ is Lyapunov stable and all solutions that start out near $\\mathbf{x}_{0}$ converge to $\\mathbf{x}_0$, then $\\mathbf{x}_{0}$ is asymptotically stable. \n"
   ]
  },
  {
   "cell_type": "markdown",
   "metadata": {},
   "source": [
    "\n",
    "A strict deffenitions are as follows:\n",
    "\n",
    "Equilibrium $\\mathbf{x}_0$ is said to be:\n",
    "\n",
    "*   **Lyapunov stable** if:\n",
    "$$\n",
    "\\forall \\epsilon>0,\\exists\\delta>0, \\|\\mathbf{x}(0) - \\mathbf{x}_0\\|<\\delta \\rightarrow \\|\\mathbf{x}(t) - \\mathbf{x}_0\\|<\\epsilon, \\quad \\forall t\n",
    "$$\n",
    "*   **Asymptotically stable** if it is Lyapunov stable and:\n",
    "$$\n",
    "\\exists \\delta >0, \\|\\mathbf{x}(0) - \\mathbf{x}_0\\|< \\delta, \\rightarrow \\lim_{t\\to\\infty} \\|\\mathbf{x}(t) - \\mathbf{x}_0\\| = 0, \\quad \\forall t\n",
    "$$\n",
    "*   **Exponentially stable** if it is asymptotically stable and:\n",
    "$$\n",
    "\\exists \\delta, \\alpha, \\beta >0, \\|\\mathbf{x}(0) - \\mathbf{x}_0\\|< \\delta, \\rightarrow  \\|\\mathbf{x}(t) - \\mathbf{x}_0\\| \\leq\\alpha\\|\\mathbf{x}(0) - \\mathbf{x}_0\\|^{-{\\beta}t}, \\quad \\forall t  \n",
    "$$\n",
    "\n",
    "Conceptually, the meanings of the above terms are the following:\n",
    "\n",
    "\n",
    "*   **Lyapunov stability** of an equilibrium means that solutions starting \"close enough\" to the equilibrium (within a distance $\\delta$  from it) remain \"close enough\" forever\n",
    "*   **Asymptotic stability** means that solutions that start close enough not only remain close enough but also eventually converge to the equilibrium.\n",
    "*  **Exponential** stability means that solutions not only converge, but in fact converge faster than or at least as fast as a particular known rate $\\alpha\\|\\mathbf{x}(0) - \\mathbf{x}_0\\|^{-{\\beta}t}$"
   ]
  },
  {
   "cell_type": "markdown",
   "metadata": {},
   "source": [
    "However let us begin with the simplest case namely LTI systems."
   ]
  },
  {
   "cell_type": "markdown",
   "metadata": {},
   "source": [
    "### **Linear Systems**\n",
    "\n",
    "however when we deal with LTI systems like:\n",
    "$$\n",
    "\\mathbf{\\dot{x}} (t)=\\mathbf{A}\\mathbf{x}(t)\n",
    "$$\n",
    "An integral above can be calculated analytically:\n",
    "$$\n",
    "\\mathbf{x}^*(t)=e^{\\mathbf{A}t}\\mathbf{x}(0)\n",
    "$$\n",
    "where matrix exponential is defined via power series:\n",
    "$$\n",
    " e^{\\mathbf{A}t}=\\sum _{k=0}^{\\infty }{1 \\over k!}\\mathbf{A}^{k}t^k\n",
    "$$\n"
   ]
  },
  {
   "cell_type": "markdown",
   "metadata": {},
   "source": [
    "\n",
    "A natural questions to ask:\n",
    "*   How to calculate this matrix exponential without power series?\n",
    "*   Do we need Can we analyze the behaviour of solutions without explicitly solving ODE?\n",
    "\n",
    "Let us first consider the first question, assume for a while that we can do the following factorization:\n",
    "$$\n",
    "\\mathbf{A}=\\mathbf{Q}\\mathbf{\\Lambda}\\mathbf{Q}^{-1}  \n",
    "$$\n",
    "where: \n"
   ]
  },
  {
   "cell_type": "markdown",
   "metadata": {},
   "source": [
    "Thus defining new variables $\\mathbf{z} = \\mathbf{Q}^{-1}\\mathbf{x}$ yields:\n",
    "$$\n",
    "\\dot{\\mathbf{z}} = \\mathbf{\\Lambda}\\mathbf{z}\n",
    "$$\n",
    "Which is in fact just a system of decoupled equations:\n",
    "$$\n",
    "\\dot{z}_i = \\lambda_i z_i,\\quad i = 1,2\\dots,n\n",
    "$$\n",
    "with known solutions:\n",
    "$$\n",
    "z^*_i = e^{\\lambda_i t} z_i(0)\n",
    "$$\n",
    "\n",
    "Recalling that $\\lambda_i$ is nothing but eigenvalues of matrix $\\mathbf{A}$, thus one may discuss behavior of solution without explicitly calculating them, just by linear analysis on $\\mathbf{A}$! \n",
    "\n"
   ]
  },
  {
   "cell_type": "markdown",
   "metadata": {},
   "source": [
    "\n",
    "\n",
    "The solution $z_i =  e^{\\lambda_i t}z_i(0)$ can be decomposed using Euler's identity:\n",
    "$$\n",
    "    z_i =  e^{\\lambda_i t}z_i(0) =\n",
    "    e^{(\\alpha_i + i \\beta_i) t}z_i(0) =\n",
    "    e^{\\alpha_i t} \n",
    "          e^{i \\beta_i t}z_i(0) = \n",
    "    e^{\\alpha_i t} \n",
    "    (\\cos(\\beta_i t) + i \\sin(\\beta_i t))z_i(0)\n",
    "$$\n",
    "where $\\lambda_i = \\alpha_i + i \\beta_i, \\operatorname{Re}{\\lambda_i} = \\alpha_i, \\operatorname{Im}{\\lambda_i} = \\beta_i$\n",
    "\n",
    "\n",
    "Since $\\| (\\cos(\\beta_i t) + i \\sin(\\beta_i t))\\| =1$ thus, norm of $z_i$:\n",
    "\n",
    "* Bounded if $\\operatorname{Re}{\\lambda_i} = \\alpha_i = 0, \\forall i$, hence the system is **Lyapunov stable**. \n",
    "* Decreasing if $\\operatorname{Re}{\\lambda_i} = \\alpha_i < 0, \\forall i$, hence the system is **asymptotically** and moreover **exponentially** stable. \n",
    "* Increasing if $\\exists i, \\operatorname{Re}{\\lambda_i} = \\alpha_i > 0$, hence the system is **unstable**. \n"
   ]
  },
  {
   "cell_type": "markdown",
   "metadata": {},
   "source": [
    "The very similar analysis may be performed in case of discrete dynamics in form:\n",
    "$$\n",
    "\\mathbf{x}_{k+1}=\\mathbf{A}\\mathbf{x}_k\n",
    "$$\n",
    "\n",
    "And the stability criterion will be as follows:\n",
    "\n",
    "* Bounded if $ |\\lambda_i|\\leq 1,\\forall i$, hence the system is **Lyapunov stable**. \n",
    "* Decreasing if $|\\lambda_i| < 1,\\forall i$, hence the system is **asymptotically** and moreover **exponentially** stable. \n",
    "* Increasing if $\\exists i, |\\lambda_i|>1 $, hence the system is **unstable**. "
   ]
  },
  {
   "cell_type": "markdown",
   "metadata": {},
   "source": [
    "HOW TO DEAL WITH NONLINEAR SYSTEMS?"
   ]
  },
  {
   "cell_type": "markdown",
   "metadata": {},
   "source": [
    "**LINEARIZATION**"
   ]
  },
  {
   "cell_type": "markdown",
   "metadata": {},
   "source": [
    "**LYAPUNOV THEORY**"
   ]
  },
  {
   "cell_type": "markdown",
   "metadata": {
    "id": "DEdCnYFHUUSS"
   },
   "source": [
    "## **Linear Quadratic Regulator**\n",
    "The theory of optimal control is concerned with operating a dynamic system at minimum cost. The case where the system dynamics are described by a set of linear differential equations and the cost is described by a quadratic function is called the LQ problem.\n",
    "\n",
    "Consider  LTI, dynamics is:\n",
    "\\begin{equation}\n",
    "\\dot {\\mathbf{x}} = \\mathbf{A}  \\mathbf{x} + \\mathbf{B} \\mathbf{u}\n",
    "\\end{equation}\n",
    "\n",
    "We looking for control $\\mathbf{u}$ such that the following cost is minimized:\n",
    "\\begin{equation}\n",
    "J_c = \\int_0^\\infty \n",
    "\\big[\n",
    "\\mathbf  x^\\top \\mathbf{Q} \\mathbf{x} +\n",
    "\\mathbf  u^\\top \\mathbf{R} \\mathbf{u} \n",
    "\\big]dt\n",
    "\\end{equation}\n",
    "\n",
    "\n"
   ]
  },
  {
   "cell_type": "markdown",
   "metadata": {
    "id": "u8MGmtB_u5Li"
   },
   "source": [
    "### **Time Invariant Case**\n",
    "\n",
    "In order to get the solution of this problem one can use the several principles, such as HJB equation, dynamic programming, Pontryagin maxima principle, all in all the solution consist of two steps.\n",
    "\n",
    "Solving the Riccati equation:\n",
    "\\begin{equation}\n",
    "\\mathbf{Q} - \\mathbf{S} \\mathbf{B} \\mathbf{R}^{-1} \\mathbf{B}^\\top \\mathbf{S} \n",
    " + \\mathbf{S} \\mathbf{A} + \\mathbf{A}^\\top \\mathbf{S} = 0\n",
    "\\end{equation}\n",
    "\n",
    "Control law is given by:\n",
    "\n",
    "\\begin{equation}\n",
    "\\mathbf  u = \n",
    "-\\mathbf{R}^{-1} \\mathbf{B}^\\top \\mathbf{S} \\mathbf{x}\n",
    "\\end{equation}\n",
    "\n",
    "This is the desired control law. We can see that it is \\emph{proportional}. We can re-write it as:\n",
    "Or just \n",
    "\\begin{equation}\n",
    "\\mathbf  u = -\\mathbf K \\mathbf{x}\n",
    "\\end{equation}\n",
    "where $\\mathbf K = \\mathbf{R}^{-1} \\mathbf{B}^\\top \\mathbf{S}$"
   ]
  },
  {
   "cell_type": "markdown",
   "metadata": {
    "id": "J2vlXIk_P-yI"
   },
   "source": [
    "### **Example:**\n",
    "\n",
    "Consider an inverted pendulum is a pendulum that has its center of mass above its pivot point. It is unstable and without additional help will fall over. It can be suspended stably in this inverted position by using a control system to monitor the angle of the pole and move the pivot point horizontally back under the center of mass when it starts to fall over, keeping it balanced. \n",
    "\n",
    "You may see the videos [here](https://www.youtube.com/watch?v=xRSLq3WJBew) and [here](https://www.youtube.com/watch?v=XWhGjxdug0o)\n",
    "\n",
    "\n"
   ]
  },
  {
   "cell_type": "code",
   "execution_count": null,
   "metadata": {
    "colab": {
     "base_uri": "https://localhost:8080/",
     "height": 473
    },
    "executionInfo": {
     "elapsed": 997,
     "status": "ok",
     "timestamp": 1635786780827,
     "user": {
      "displayName": "Simeon Nedelchev",
      "photoUrl": "https://lh3.googleusercontent.com/a-/AOh14GiPm9XRUy5uUkVd2PqMDIopEF7D76Z_VbzbHXsz9g=s64",
      "userId": "03534961477476687401"
     },
     "user_tz": -180
    },
    "id": "jsJwTWws9E9g",
    "outputId": "2a8f2eed-417b-4dab-d587-e50f67a64ccf"
   },
   "outputs": [
    {
     "name": "stdout",
     "output_type": "stream",
     "text": [
      "[ 0.          0.          8.57758707 -8.57758707]\n",
      "[[-13.97161874  -1.59928553  -0.31622777  -0.52023256]]\n"
     ]
    },
    {
     "data": {
      "image/png": "[encoded data removed]",
      "text/plain": [
       "<Figure size 648x216 with 1 Axes>"
      ]
     },
     "metadata": {},
     "output_type": "display_data"
    },
    {
     "data": {
      "image/png": "[encoded data removed]",
      "text/plain": [
       "<Figure size 648x216 with 1 Axes>"
      ]
     },
     "metadata": {},
     "output_type": "display_data"
    }
   ],
   "source": [
    "import numpy as np\n",
    "from scipy.integrate import odeint\n",
    "from scipy.linalg import solve_continuous_are as are\n",
    "\n",
    "def lqr(A, B, Q, R):\n",
    "    # Solve the ARE\n",
    "    S = are(A, B, Q, R)\n",
    "    R_inv = np.linalg.inv(R)\n",
    "    K = R_inv.dot((B.T).dot(S))\n",
    "    Ac = A - B.dot(K)\n",
    "    E = np.linalg.eigvals(Ac)\n",
    "    return S, K, E\n",
    "\n",
    "\n",
    "def system_ode(x, t, A, B, K):\n",
    "    u = -np.dot(K,x)\n",
    "    dx = np.dot(A,x) + np.dot(B,u)\n",
    "    return dx\n",
    "\n",
    "\n",
    "t0 = 0 # Initial time \n",
    "tf = 15 # Final time\n",
    "N = int(2E3) # Numbers of points in time span\n",
    "t = np.linspace(t0, tf, N) # Create time span\n",
    "y_0 = 0.5\n",
    "x0 = [0.2, 0, 0, 0] # Set initial state \n",
    "\n",
    "\n",
    "M, m, l, g = .4, .2, 0.2, 9.81\n",
    "\n",
    "A = [[0, 1, 0, 0], \n",
    "     [g*(M+m)/(M*l), 0, 0, 0],\n",
    "     [0,0,0,1],\n",
    "     [-m*g/M, 0,0,0]]\n",
    "\n",
    "A = np.array(A)\n",
    "\n",
    "print(np.linalg.eigvals(A))\n",
    "\n",
    "B = [[0], \n",
    "     [-1/(M*l)], \n",
    "     [0], \n",
    "     [1/M]]\n",
    "\n",
    "B = np.array(B)\n",
    "\n",
    "Q = np.diag([1,0.1,1,0.1])\n",
    "\n",
    "R = np.diag([10])\n",
    "\n",
    "\n",
    "\n",
    "S, K, E = lqr(A, B, Q, R)\n",
    "print(K)\n",
    "x_sol = odeint(system_ode, x0, t, args=(A, B, K )) # integrate system \"sys_ode\" from initial state $x0$\n",
    "u_sol = - K.dot(x_sol.T).T\n",
    "from matplotlib.pyplot import *\n",
    "theta, dtheta, x, dx = x_sol[:, 0], x_sol[:, 1], x_sol[:, 2], x_sol[:, 3]\n",
    "\n",
    "\n",
    "figure(figsize=(9, 3))\n",
    "plot(t, theta, 'r', linewidth=2.0)\n",
    "# plot(t, x, 'b', linewidth=2.0)\n",
    "grid(color='black', linestyle='--', linewidth=1.0, alpha = 0.7)\n",
    "grid(True)\n",
    "xlim([t0, tf])\n",
    "ylabel(r'State ${x}$ (m)')\n",
    "xlabel(r'Time $t$ (s)')\n",
    "show()\n",
    "\n",
    "figure(figsize=(9, 3))\n",
    "plot(t, u_sol, 'r', linewidth=2.0)\n",
    "grid(color='black', linestyle='--', linewidth=1.0, alpha = 0.7)\n",
    "grid(True)\n",
    "xlim([t0, tf])\n",
    "ylabel(r'Control ${u}$')\n",
    "xlabel(r'Time $t$ (s)')\n",
    "show()"
   ]
  },
  {
   "cell_type": "markdown",
   "metadata": {
    "id": "gfDFYqeB_pcO"
   },
   "source": [
    "\n",
    ">**HW EXERCISE**: \n",
    "Try to simulate the linear feedback on the nonlinear system with state $\\mathbf{x}=[\\theta, \\dot{\\theta}, x, \\dot{x}]^T$ and dynamics given by:\n",
    "\\begin{equation}\n",
    "\\begin{cases} \n",
    "\\left(M+m\\right){\\ddot {x}}-m L \\ddot{\\theta} \\cos \\theta +m L \\dot{\\theta }^{2}\\sin \\theta = u \\\\\n",
    "L \\ddot{\\theta}- g\\sin \\theta =\\ddot{x} \\cos \\theta  \\\\\n",
    "\\end{cases}\n",
    "\\end{equation}"
   ]
  },
  {
   "cell_type": "markdown",
   "metadata": {
    "id": "168ziURuxUEZ"
   },
   "source": [
    "### **LQR and Poles**"
   ]
  },
  {
   "cell_type": "code",
   "execution_count": null,
   "metadata": {
    "colab": {
     "base_uri": "https://localhost:8080/",
     "height": 705
    },
    "executionInfo": {
     "elapsed": 764,
     "status": "ok",
     "timestamp": 1635786770241,
     "user": {
      "displayName": "Simeon Nedelchev",
      "photoUrl": "https://lh3.googleusercontent.com/a-/AOh14GiPm9XRUy5uUkVd2PqMDIopEF7D76Z_VbzbHXsz9g=s64",
      "userId": "03534961477476687401"
     },
     "user_tz": -180
    },
    "id": "5eLJtBQp3xdK",
    "outputId": "52f1d33e-8228-4cb3-dd53-e766150b63d1"
   },
   "outputs": [
    {
     "data": {
      "image/png": "[encoded data removed]",
      "text/plain": [
       "<Figure size 648x216 with 1 Axes>"
      ]
     },
     "metadata": {},
     "output_type": "display_data"
    },
    {
     "data": {
      "image/png": "[encoded data removed]",
      "text/plain": [
       "<Figure size 648x216 with 1 Axes>"
      ]
     },
     "metadata": {},
     "output_type": "display_data"
    },
    {
     "data": {
      "image/png": "[encoded data removed]",
      "text/plain": [
       "<Figure size 288x288 with 1 Axes>"
      ]
     },
     "metadata": {},
     "output_type": "display_data"
    }
   ],
   "source": [
    "import numpy as np\n",
    "from scipy.signal import place_poles\n",
    "\n",
    "\n",
    "Q = np.diag([1,1,1,1])\n",
    "R = np.diag([1])\n",
    "\n",
    "simulations = {'fast':{'R':R/10},'slow':{'R':R*5}}\n",
    "\n",
    "for sim_type in simulations.keys():\n",
    "  R = simulations[sim_type]['R']\n",
    "  S, K, E = lqr(A, B, Q, R)\n",
    "  simulations[sim_type]['eigs'] = E\n",
    "  simulations[sim_type]['K'] = K\n",
    "  simulations[sim_type]['x'] = odeint(system_ode, x0, t, args=(A, B, K ))\n",
    "  simulations[sim_type]['u'] = - K.dot(x_sol.T).T\n",
    "  \n",
    "\n",
    "figure(figsize=(9, 3))\n",
    "plot(t, simulations['slow']['x'][:,0], 'r', linewidth=2.0)\n",
    "plot(t, simulations['slow']['x'][:,2], 'b', linewidth=2.0)\n",
    "plot(t, simulations['fast']['x'][:,0], 'r--', linewidth=2.0)\n",
    "plot(t, simulations['fast']['x'][:,2], 'b--', linewidth=2.0)\n",
    "grid(color='black', linestyle='--', linewidth=1.0, alpha = 0.7)\n",
    "grid(True)\n",
    "xlim([t0, tf])\n",
    "ylabel(r'State ${x}$')\n",
    "xlabel(r'Time $t$ (s)')\n",
    "show()\n",
    "\n",
    "figure(figsize=(9, 3))\n",
    "plot(t, simulations['slow']['u'], 'r', linewidth=2.0)\n",
    "plot(t, simulations['fast']['u'], 'r--', linewidth=2.0)\n",
    "grid(color='black', linestyle='--', linewidth=1.0, alpha = 0.7)\n",
    "grid(True)\n",
    "xlim([t0, tf])\n",
    "ylabel(r'State ${x}$')\n",
    "xlabel(r'Time $t$ (s)')\n",
    "show()\n",
    "\n",
    "figure(figsize=(4, 4))\n",
    "plot(simulations['fast']['eigs'].real, simulations['fast']['eigs'].imag, 'bo', label='Fast')\n",
    "plot(simulations['slow']['eigs'].real, simulations['slow']['eigs'].imag, 'rx',\n",
    "         label='Slow')\n",
    "grid(color='black', linestyle='--', linewidth=1.0, alpha = 0.7)\n",
    "grid(True)\n",
    "xlabel(r'Real part: ${ \\operatorname{Re}(\\lambda)}$')\n",
    "ylabel(r'Imaginary part: ${ \\operatorname{Im}(\\lambda)}$')\n",
    "show()\n",
    "\n"
   ]
  },
  {
   "cell_type": "markdown",
   "metadata": {
    "slideshow": {
     "slide_type": "subslide"
    }
   },
   "source": [
    "Such analysis is usually performed used wider variety of approaches and mathematical tools including:\n",
    "* Graphical methods such as **phase portraits** \n",
    "* Approximations of local behavior via **linearization**\n",
    "* Geometrical methods and **nonlinear transformations**\n",
    "* The \"testing-functions\" tools, such as **describing functions** and **Lyapunov method**\n",
    "\n",
    "While the phase portraits are great visual tool that we can use for low dimensional systems "
   ]
  },
  {
   "cell_type": "code",
   "execution_count": null,
   "metadata": {
    "colab": {
     "base_uri": "https://localhost:8080/",
     "height": 571
    },
    "executionInfo": {
     "elapsed": 832,
     "status": "ok",
     "timestamp": 1635786771064,
     "user": {
      "displayName": "Simeon Nedelchev",
      "photoUrl": "https://lh3.googleusercontent.com/a-/AOh14GiPm9XRUy5uUkVd2PqMDIopEF7D76Z_VbzbHXsz9g=s64",
      "userId": "03534961477476687401"
     },
     "user_tz": -180
    },
    "id": "eVsKfXtfHz8p",
    "outputId": "a00c655f-392f-47f5-fba4-da9ce6bc70df"
   },
   "outputs": [
    {
     "data": {
      "image/png": "[encoded data removed]",
      "text/plain": [
       "<Figure size 432x288 with 1 Axes>"
      ]
     },
     "metadata": {},
     "output_type": "display_data"
    },
    {
     "data": {
      "image/png": "[encoded data removed]",
      "text/plain": [
       "<Figure size 432x288 with 1 Axes>"
      ]
     },
     "metadata": {},
     "output_type": "display_data"
    }
   ],
   "source": [
    "from scipy.signal import cont2discrete as c2d\n",
    "C = [1,0,0,0]\n",
    "C = np.array(C)\n",
    "D = np.array([[0]])\n",
    "\n",
    "T = 0.13\n",
    "tf = 6\n",
    "N = int(tf/T)\n",
    "A_d, B_d, C, D, _ = c2d((A,B,C,D), T)\n",
    "\n",
    "K = simulations['fast']['K']\n",
    "state_c = simulations['fast']['x']\n",
    "u_c = simulations['fast']['u']\n",
    "eigs_c = simulations['fast']['eigs']\n",
    "\n",
    "x = np.array([0.2, 0, 0, 0])\n",
    "X = x\n",
    "U = []\n",
    "\n",
    "for k in range(N):\n",
    "  u = -np.dot(K,x)\n",
    "  U.append(u)\n",
    "  x = A_d.dot(x) + B_d.dot(u)\n",
    "  X = np.vstack((X, x))\n",
    "\n",
    "\n",
    "\n",
    "theta_c, dtheta_c, x_c, dx_c = state_c[:, 0], state_c[:, 1], state_c[:, 2], state_c[:, 3]\n",
    "theta_d, dtheta_d, x_d, dx_d =X[:, 0], X[:, 1], X[:, 2], X[:, 3]\n",
    "\n",
    "step(T*np.arange(N+1),theta_d, 'r')\n",
    "step(T*np.arange(N+1),x_d, 'b')\n",
    "plot(t, theta_c, 'r--', linewidth=2.0)\n",
    "plot(t, x_c, 'b--', linewidth=2.0)\n",
    "grid(color='black', linestyle='--', linewidth=1.0, alpha = 0.7)\n",
    "grid(True)\n",
    "ylabel(r'State $\\mathbf{x}[k]$')\n",
    "xlabel(r'Sample $k$')\n",
    "xlim([-0.1, tf])\n",
    "show()\n",
    "\n",
    "step(T*np.arange(N),U, 'r')\n",
    "plot(t, u_c, 'r--', linewidth=2.0)\n",
    "grid(color='black', linestyle='--', linewidth=1.0, alpha = 0.7)\n",
    "grid(True)\n",
    "xlim([-0.1, tf])\n",
    "ylabel(r'Control $\\mathbf{u}[k]$')\n",
    "xlabel(r'Sample $k$')\n",
    "show()"
   ]
  },
  {
   "cell_type": "code",
   "execution_count": null,
   "metadata": {
    "colab": {
     "base_uri": "https://localhost:8080/",
     "height": 283
    },
    "executionInfo": {
     "elapsed": 7,
     "status": "ok",
     "timestamp": 1635786771065,
     "user": {
      "displayName": "Simeon Nedelchev",
      "photoUrl": "https://lh3.googleusercontent.com/a-/AOh14GiPm9XRUy5uUkVd2PqMDIopEF7D76Z_VbzbHXsz9g=s64",
      "userId": "03534961477476687401"
     },
     "user_tz": -180
    },
    "id": "vAvWInyfNx_o",
    "outputId": "dc873c7a-c841-46d3-ae71-62705d3ac79b"
   },
   "outputs": [
    {
     "data": {
      "image/png": "[encoded data removed]",
      "text/plain": [
       "<Figure size 288x288 with 1 Axes>"
      ]
     },
     "metadata": {},
     "output_type": "display_data"
    }
   ],
   "source": [
    "eigs_d = np.linalg.eigvals(A_d - B_d.dot(K))\n",
    "\n",
    "z = np.linspace(0, 2*np.pi, 500)\n",
    "\n",
    "figure(figsize=(4, 4))\n",
    "plot(np.cos(z), np.sin(z), 'k--')  # unit circle\n",
    "# plot(eigs_c.real, eigs_c.imag, 'bo', label='Fast')\n",
    "plot(eigs_d.real, eigs_d.imag, 'rx', label='Slow')\n",
    "grid(color='black', linestyle='--', linewidth=1.0, alpha = 0.7)\n",
    "grid(True)\n",
    "xlabel(r'Real part: ${ \\operatorname{Re}(\\lambda)}$')\n",
    "ylabel(r'Imaginary part: ${ \\operatorname{Im}(\\lambda)}$')\n",
    "show()"
   ]
  },
  {
   "cell_type": "markdown",
   "metadata": {
    "id": "Z622gBBBxQzt"
   },
   "source": [
    "### **Discrete Time LQR**\n",
    "For a discrete-time linear system described by:\n",
    "\n",
    "\\begin{equation}\n",
    "\\mathbf{x}_{k+1}=\\mathbf{A} \\mathbf{x}_{k}+\\mathbf{B}\\mathbf{u}_{k}\n",
    "\\end{equation}\n",
    "with a performance index defined as:\n",
    "\\begin{equation}\n",
    "J_c=\\sum \\limits _{{k=0}}^{{\\infty }}\\left(\\mathbf{x}_{k}^{T}\\mathbf{Q}\\mathbf{x}_{k}+\\mathbf{u}_{k}^{T}\\mathbf{R}\\mathbf{u}_{k}\\right)\n",
    "\\end{equation}\n",
    "\n",
    "the optimal control sequence minimizing the performance index is given by:\n",
    "\\begin{equation}\n",
    "\\mathbf{u}_{k}=-\\mathbf{K} \\mathbf{x}_{k}\n",
    "\\end{equation}\n",
    "\n",
    "where:\n",
    "\\begin{equation}\n",
    "\\mathbf{K}=(\\mathbf{R}+\\mathbf{B}^{T}\\mathbf{S}\\mathbf{B})^{{-1}}\\mathbf{B}^{T}\\mathbf{S}\\mathbf{A}\n",
    "\\end{equation}\n",
    "\n",
    "and $\\mathbf{S}$ is the unique positive definite solution to the discrete time algebraic Riccati equation (DARE):\n",
    "\n",
    "\\begin{equation}\n",
    "\\mathbf{S}=\\mathbf{A}^{T}\\mathbf{S}\\mathbf{A}-(\\mathbf{A}^{T}\\mathbf{S}\\mathbf{B})\\left(\\mathbf{R}+\\mathbf{B}^{T}\\mathbf{S}\\mathbf{B}\\right)^{{-1}}(\\mathbf{B}^{T}\\mathbf{S}\\mathbf{A})+\\mathbf{Q}\n",
    "\\end{equation}"
   ]
  },
  {
   "cell_type": "markdown",
   "metadata": {
    "id": "NVvKlqr1RGOs"
   },
   "source": [
    ">**HW EXERCISE**: \n",
    "Implement the Discrete Time LQR"
   ]
  },
  {
   "cell_type": "markdown",
   "metadata": {
    "slideshow": {
     "slide_type": "subslide"
    }
   },
   "source": [
    "A dynamical system may be\n",
    "* **SISO or MIMO**: A SISO system is single-input single-output system and a\n",
    "MISO system is multiple-input multiple-output system\n",
    "* **Continuous-time or discrete-time**: A continuous-time system accepts and\n",
    "generates signals at all continuous times continuously.\n",
    "A discrete system accepts and generates signals at discrete times.\n",
    "* **Causal or non-causal**: A system is causal if its output at some time $t$\n",
    "depends on inputs up to time $t$ but not after $t$. Otherwise it is non-causal.\n",
    "* **Time invariant or time-varying**: A system is time-invariant if its input-output\n",
    "relationship is independent of time. Otherwise it is time-varying.\n",
    "* **Linear or nonlinear**: The process that we want to model may be extremely complicated with different non-linearities, it is rare that real life systems are well described by linear models along the whole operational range."
   ]
  },
  {
   "cell_type": "markdown",
   "metadata": {
    "slideshow": {
     "slide_type": "subslide"
    }
   },
   "source": [
    "### **Plant Models**"
   ]
  },
  {
   "cell_type": "markdown",
   "metadata": {
    "slideshow": {
     "slide_type": "-"
    }
   },
   "source": [
    "Mathematical model is the **abstraction** of real world. While one building model of process there are a lot of simplifications may be made, and even seemingly accurate models are never perfectly describe the underlying process. **A model should be as simple as possible, and no simpler**.\n",
    "\n",
    "<p align=\"center\">\n",
    "<img src=\"images/systems/robot_to_model_blank.png\"\" alt=\"drawing\" width=\"90%\" style=\"margin:auto\"/>\n",
    "</p>\n",
    "\n",
    "Anything in the physical or biological world, whether natural or involving technology, is subject to analysis by mathematical models if it can be described in terms of mathematical expressions.\n",
    "\n",
    "\n"
   ]
  },
  {
   "cell_type": "markdown",
   "metadata": {
    "slideshow": {
     "slide_type": "subslide"
    }
   },
   "source": [
    "<!-- ### **Model** -->\n",
    "\n",
    "For the purpose of control design, a suitable model of the system should be used.\n",
    "Different kinds of models used in control design are:\n",
    "* **Impulse response** models (time domain)\n",
    "* **Transfer function** models (frequency domain)\n",
    "* **State-space** models (time domain)\n",
    "\n",
    "At present, mostly state-space models are used due to their generality, simplicity of implementation and mature mathematical apparatus that simplifies their analysis. However, impulse responce and transfer function may be usefull as well. For instance if one is interested in input output relationships, or som terminal properties of a system, impulse\n",
    "response models or transfer function descriptions can be used.\n",
    "\n",
    "However in **this course we will stick to the state space models**, since they are widely used in modern control systems."
   ]
  },
  {
   "cell_type": "markdown",
   "metadata": {
    "slideshow": {
     "slide_type": "subslide"
    }
   },
   "source": [
    "### **State-space models**\n",
    "\n",
    "These models are based on the concept of the **state** of the system.\n",
    "The state $\\mathbf{x}$ of a system is the smallest set of variables (called state variables)\n",
    "such that the knowledge of these variables $\\mathbf{x}_0$ at some time $t_0$ together with\n",
    "the knowledge of the input $\\mathbf{u}(\\tau)$ for all $\\tau$ from $t_0$ to $t$ completely\n",
    "determines the behavior of the system for any time $t> t_0$ .\n",
    "\n",
    "A state-space model of a system is expressed with a set of first-order\n",
    "differential equations, one for each state variable."
   ]
  },
  {
   "cell_type": "markdown",
   "metadata": {
    "slideshow": {
     "slide_type": "subslide"
    }
   },
   "source": [
    "### **Linear Systems**\n",
    "\n",
    "Linear control theory has been predominantly concerned with the study of **linear timeinvariant** (LTI) control systems, of the form:\n",
    "\n",
    "$$\n",
    "\\begin{matrix}\n",
    "    \\dot{\\mathbf{x}} = \\mathbf{A}(t) \\mathbf{x} + \\mathbf{B}(t) \\mathbf{u}\n",
    "\\end{matrix}\n",
    "$$\n",
    "\n",
    "\n",
    "with $\\mathbf{x} \\in \\mathbb{R}^n$ being a vector of **states**, $\\mathbf{A}  \\in \\mathbb{R}^{n \\times n}$ the **system matrix**, $\\mathbf{u}\\in \\mathbb{R}^m$ **input** (control) vector and $\\mathbf{B}   \\in \\mathbb{R}^{n \\times m}$ is the **input matrix**. \n",
    "\n",
    "LTI systems have quite simple properties, such as:\n",
    "\n",
    "* a linear system has a **unique equilibrium point** if $\\mathbf{A}$ is full rank\n",
    "* the equilibrium point is **stable** if all eigenvalues of $\\mathbf{A}$ have negative real parts, regardless of initial conditions\n",
    "* the transient response of a linear system is composed of the natural modes of the system, and the general solution can be found **analytically**\n",
    "* **response** satisfies the principle of superposition.\n",
    "* a sinusoidal input leads to a sinusoidal output of the **same frequency**."
   ]
  },
  {
   "cell_type": "markdown",
   "metadata": {
    "slideshow": {
     "slide_type": "subslide"
    }
   },
   "source": [
    "**Example: Mass-Spring-Damper**\n",
    "\n",
    "<p align=\"center\">\n",
    "<img src=\"images/systems/mbk_eq.png\" alt=\"drawing\" width=\"60%\" style=\"margin:auto\"/>\n",
    "</p>"
   ]
  },
  {
   "cell_type": "markdown",
   "metadata": {
    "slideshow": {
     "slide_type": "fragment"
    }
   },
   "source": [
    "And one can formulate this system in state space as:\n",
    "$$\n",
    "\\dot{\\mathbf{x}} = \\mathbf{A}\\mathbf{x} =\n",
    "\\begin{bmatrix}\n",
    "\\dot{y}\\\\\n",
    "\\ddot{y}\n",
    "\\end{bmatrix}=\n",
    "\\begin{bmatrix}\n",
    "0 & 1\\\\\n",
    "-\\frac{k}{m} & -\\frac{b}{m}\n",
    "\\end{bmatrix}\n",
    " \\begin{bmatrix}\n",
    "y\\\\\n",
    "\\dot{y}\n",
    "\\end{bmatrix}\n",
    "$$"
   ]
  },
  {
   "cell_type": "markdown",
   "metadata": {
    "slideshow": {
     "slide_type": "subslide"
    }
   },
   "source": [
    "### **Nonlinear Systems**\n",
    "\n",
    "Physical systems are inherently nonlinear. Thus, all control systems are nonlinear to a\n",
    "certain extent. \n",
    "Nonlinear control systems can be described by nonlinear differential equations. \n",
    "\n",
    "$$\n",
    "\\begin{matrix}\n",
    "    \\dot{\\mathbf{x}} = \\mathbf{f}(\\mathbf{x},\\mathbf{u},\\mathbf{d}, t)\n",
    "\\end{matrix}\n",
    "$$\n",
    "\n",
    "where $\\mathbf{f} \\in \\mathbb{R}^n$ is some nonlinear smooth function. \n",
    "\n",
    "Nonlinear systems in contrast to linear:\n",
    "* in general one can't obtain analytical solution \n",
    "* a nonlinear system has a **multiple equilibrium points**\n",
    "* the **stability** of these equilibriums is much harder to analyze \n",
    "* **response** does not satisfies the principle of superposition.\n",
    "\n",
    "The form above is fairly general, however there are known special cases, like control-affine and drift-less systems which we will study a bit later.\n",
    "\n",
    "<!-- However, if the operating range of a control system is small, and if the\n",
    "involved nonlinearities are smooth, then the control system may be reasonably\n",
    "approximated by a linearized system, whose dynamics is described by a set of linear\n",
    "differential equations. -->\n",
    "\n",
    "<!-- Nonlinearities can be classified as inherent (natural) and intentional (artificial).\n",
    "Inherent nonlinearities are those which naturally come with the system's hardware and\n",
    "motion. Examples of inherent nonlinearities include centripetal forces in rotational\n",
    "motion, and Coulomb friction between contacting surfaces. Usually, such\n",
    "nonlinearities have undesirable effects, and control systems have to properly\n",
    "compensate for them. \n",
    "Intentional nonlinearities, on the other hand, are artificially\n",
    "introduced by the designer. -->\n"
   ]
  },
  {
   "cell_type": "markdown",
   "metadata": {
    "slideshow": {
     "slide_type": "subslide"
    }
   },
   "source": [
    "**Example: Nonlinear Pendulum**\n",
    "\n",
    "<p align=\"center\">\n",
    "<img src=\"images/systems/pend_eq.png\" alt=\"drawing\" width=\"60%\" style=\"margin:auto\"/>\n",
    "</p>\n",
    " \n",
    "\n",
    "\n",
    "<!-- Let us consider simple pendulum, with dynamics given by:\n",
    "\n",
    "$$\n",
    "(m L^2 + I) \\ddot{\\theta} + mgL \\sin\\theta + b \\dot{\\theta} = u\n",
    "$$ -->\n",
    "\n"
   ]
  },
  {
   "cell_type": "markdown",
   "metadata": {
    "slideshow": {
     "slide_type": "fragment"
    }
   },
   "source": [
    "Given state $\\mathbf{x} = [\\theta, \\dot{\\theta}]^T$ we may formulate equation above as:\n",
    "\n",
    "$$\n",
    "\\dot{\\mathbf{x}} = \n",
    "\\begin{bmatrix}\n",
    "\\dot{\\theta} \\\\\n",
    "\\ddot{\\theta} \n",
    "\\end{bmatrix} =\n",
    "\\begin{bmatrix}\n",
    "\\dot{x}_1 \\\\\n",
    "\\dot{x}_2 \n",
    "\\end{bmatrix} =\n",
    "\\begin{bmatrix}\n",
    "x_2 \\\\\n",
    "\\frac{1}{m L^2 + I}(u - mgL \\sin x_1-b x_2)\n",
    "\\end{bmatrix} \n",
    "$$"
   ]
  },
  {
   "cell_type": "markdown",
   "metadata": {
    "slideshow": {
     "slide_type": "subslide"
    }
   },
   "source": [
    "**Example: Variable Mass Lander**\n",
    "\n",
    "<!-- Dynamics of lunar lander given by  Tsiolkovsky-Meshchersky equation:\n",
    "$$\n",
    " m\\ddot{x} + mg = -k\\dot{m} = -ku\n",
    "$$ -->\n",
    "\n",
    "<p align=\"center\">\n",
    "<img src=\"images/systems/lander_eq.png\" alt=\"drawing\" width=\"60%\" style=\"margin:auto\"/>\n",
    "</p>\n",
    "\n"
   ]
  },
  {
   "cell_type": "markdown",
   "metadata": {
    "slideshow": {
     "slide_type": "fragment"
    }
   },
   "source": [
    "Noting that $m$ is vary we need to include it to state, thus $\\mathbf{x} = [x, \\dot{x}, m]^T$ and equation above is equalient to:\n",
    "\n",
    "$$\n",
    "\\dot{\\mathbf{x}}=\n",
    "\\begin{bmatrix}\n",
    "\\dot{x} \\\\\n",
    "\\dot{v} \\\\ \n",
    "\\dot{m} \\\\\n",
    "\\end{bmatrix}=\n",
    "\\begin{bmatrix}\n",
    "v \\\\ \n",
    "-g - \\frac{k}{m} u\\\\ \n",
    "u \\\\ \n",
    "\\end{bmatrix} =\n",
    "\\begin{bmatrix}\n",
    "\\dot{x}_1 \\\\\n",
    "\\dot{x}_2 \\\\ \n",
    "\\dot{x}_3 \\\\\n",
    "\\end{bmatrix} = \n",
    "\\begin{bmatrix}\n",
    "x_2 \\\\ \n",
    "-g - \\frac{k}{x_3} u\\\\ \n",
    "u \\\\ \n",
    "\\end{bmatrix}\n",
    "$$\n"
   ]
  },
  {
   "cell_type": "markdown",
   "metadata": {
    "slideshow": {
     "slide_type": "subslide"
    }
   },
   "source": [
    "### **Generilized Mechanical System**\n",
    "\n",
    "Equation of motion for most mechanical systems may be written in following form:\n",
    "\n",
    "$$\n",
    "\\mathbf{M}(\\mathbf{q})\\ddot{\\mathbf{q}} + \\mathbf{h}(\\mathbf{q},\\dot{\\mathbf{q}}) + \\mathbf{d}(\\mathbf{q},\\dot{\\mathbf{q}},t) = \\mathbf{Q} = \\mathbf{B}(\\mathbf{q})\\mathbf{u}\n",
    "$$\n",
    "<!-- \\mathbf{M}(\\mathbf{q})\\ddot{\\mathbf{q}}  + \\mathbf{C}(\\mathbf{q},\\dot{\\mathbf{q}})\\dot{\\mathbf{q}} + \\mathbf{g}(\\mathbf{q}) + \\mathbf{d}(\\mathbf{q},\\dot{\\mathbf{q}},t) =  -->\n",
    "\n",
    "where:\n",
    "* $\\mathbf{Q} \\in \\mathbb{R}^n$ - generalized forces corresponding to generilized coordinates\n",
    "* $\\mathbf{B} \\in \\mathbb{R}^{n \\times m}$ - input mapping matrix that mapped actual forces to the \n",
    "* $\\mathbf{d} \\in \\mathbb{R}^n$ - disturbances (for instance friction or external forces)\n",
    "* $\\mathbf{q} \\in \\mathbb{R}^{n}$ - vector of generilized coordinates\n",
    "* $\\mathbf{M} \\in \\mathbb{R}^{n \\times n}$ - positive definite symmetric inertia matrix \n",
    "* $\\mathbf{h} \\in \\mathbb{R}^n$ nonlinear term that describe the internal forces (coriolis and centrifugal terms)\n"
   ]
  },
  {
   "cell_type": "markdown",
   "metadata": {
    "slideshow": {
     "slide_type": "fragment"
    }
   },
   "source": [
    "One can easily transform the mechanical system to the state space form by defining the state $\\mathbf{x} = [\\mathbf{q}, \\dot{\\mathbf{q}}]^T$:\n",
    "\n",
    "$$\n",
    "\\dot{\\mathbf{x}}=\n",
    "\\begin{bmatrix}\n",
    "\\dot{\\mathbf{x}}_1 \\\\ \n",
    "\\dot{\\mathbf{x}}_2\n",
    "\\end{bmatrix}=\n",
    "\\begin{bmatrix}\n",
    "\\dot{\\mathbf{q}} \\\\ \n",
    "\\ddot{\\mathbf{q}}\n",
    "\\end{bmatrix}=\n",
    "\\begin{bmatrix}\n",
    "\\mathbf{x}_2 \\\\\n",
    "\\mathbf{M}^{-1}(\\mathbf{x}_1) \\big(\\mathbf{B}(\\mathbf{x}_1)\\mathbf{u} - \\mathbf{d}(\\mathbf{x}_1, \\mathbf{x}_2,t) -  \\mathbf{h}(\\mathbf{x}_1, \\mathbf{x}_2) \\big)\n",
    "\\end{bmatrix}\n",
    "$$\n"
   ]
  },
  {
   "cell_type": "markdown",
   "metadata": {
    "slideshow": {
     "slide_type": "subslide"
    }
   },
   "source": [
    "**Example: Floating Rigid Body**\n",
    "\n",
    "The model of floating rigid body described by its postion $\\mathbf{p}$, linear $\\mathbf{v} = \\dot{\\mathbf{p}}$ and angular velocity $\\boldsymbol{\\omega}$ subject to external force $\\mathbf{f}$ and torque $\\boldsymbol{\\tau}$:\n",
    "\n",
    "\n",
    "<p align=\"center\">\n",
    "<img src=\"images/systems/srb_eq.png\" alt=\"drawing\" width=\"60%\" style=\"margin:auto\"/>\n",
    "</p>\n"
   ]
  },
  {
   "cell_type": "markdown",
   "metadata": {
    "slideshow": {
     "slide_type": "fragment"
    }
   },
   "source": [
    "To rewrite the following in the general form one may define following:\n",
    "$$\n",
    "\\mathbf{M}(\\mathbf{q}) = \n",
    "\\begin{bmatrix}\n",
    "mI & 0 \\\\\n",
    "0 & \\mathcal{I}\\\\\n",
    "\\end{bmatrix}, \\quad\n",
    "\\mathbf{h}(\\mathbf{q},\\dot{\\mathbf{q}}) = \n",
    "\\begin{bmatrix}\n",
    "mg \\\\\n",
    "\\boldsymbol{\\omega} \\times  \\mathcal{I}\\boldsymbol{\\omega}\\\\\n",
    "\\end{bmatrix}, \\quad \\mathbf{B} = \\mathbf{I}\n",
    "$$"
   ]
  },
  {
   "cell_type": "markdown",
   "metadata": {
    "slideshow": {
     "slide_type": "subslide"
    }
   },
   "source": [
    "**Example: Artificial Satellite**\n",
    "\n",
    "The artificial satellite orbiting planet may be described using Newton gravity theory as:\n",
    "<!-- \n",
    "$$\n",
    "\\left\\{\\begin{matrix}\n",
    "m\\ddot{r}=m r\\dot{\\theta}^2  -G\\cfrac{m M}{r^2} + u_r\n",
    "\\\\ \n",
    "mr\\ddot{\\theta}=-2 m \\dot{r}\\dot{\\theta}+ u_\\theta\n",
    "\\end{matrix}\\right.\n",
    "$$ -->\n",
    "\n",
    "<p align=\"center\">\n",
    "<img src=\"images/systems/satt_eq.png\" alt=\"drawing\" width=\"60%\" style=\"margin:auto\"/>\n",
    "</p>\n"
   ]
  },
  {
   "cell_type": "markdown",
   "metadata": {
    "slideshow": {
     "slide_type": "fragment"
    }
   },
   "source": [
    "Given the generilized coordinates as $\\mathbf{q} = [r, \\theta]$ and control $\\mathbf{u} = [u_r, u_\\theta]^T$ one can express above in the general form:\n",
    "\n",
    "$$\n",
    "\\mathbf{M}(\\mathbf{q}) = \n",
    "\\begin{bmatrix}\n",
    "m & 0 \\\\\n",
    "0 & mr \\\\\n",
    "\\end{bmatrix}, \\quad\n",
    "\\mathbf{h}(\\mathbf{q},\\dot{\\mathbf{q}}) = \n",
    "\\begin{bmatrix}\n",
    "-mr\\dot{\\theta}^2 + G\\cfrac{m M}{r^2} \\\\\n",
    "2m\\dot{r}\\dot{\\theta}\\\\\n",
    "\\end{bmatrix}, \\quad \\mathbf{B} = \\mathbf{I}\n",
    "$$"
   ]
  },
  {
   "cell_type": "markdown",
   "metadata": {
    "slideshow": {
     "slide_type": "subslide"
    }
   },
   "source": [
    "**Example: Cart Pole**\n",
    "\n",
    "Let us consider the cart pole described by:\n",
    "<!-- $$\n",
    "\\begin{cases} \n",
    "\\left(M+m\\right){\\ddot {r}}-m L \\ddot{\\theta} \\cos \\theta +m L \\dot{\\theta }^{2}\\sin \\theta = u \\\\\n",
    "mL^2 \\ddot{\\theta}- mLg\\sin \\theta =mL\\ddot{r} \\cos \\theta  \\\\\n",
    "\\end{cases}\n",
    "$$ -->\n",
    "\n",
    "<p align=\"center\">\n",
    "<img src=\"images/systems/cart_pole_eq.png\" alt=\"drawing\" width=\"60%\" style=\"margin:auto\"/>\n",
    "</p>\n"
   ]
  },
  {
   "cell_type": "markdown",
   "metadata": {
    "slideshow": {
     "slide_type": "fragment"
    }
   },
   "source": [
    "Defyning the generilized coordinates as $\\mathbf{q} = [r, \\theta]$ and matching the terms yields:\n",
    "\n",
    "$$\n",
    "\\mathbf{M}(\\mathbf{q}) = \n",
    "\\begin{bmatrix}\n",
    "M + m & -mL \\cos \\theta \\\\\n",
    "-mL \\cos \\theta & mL^2 \\\\\n",
    "\\end{bmatrix}, \\quad\n",
    "\\mathbf{h}(\\mathbf{q},\\dot{\\mathbf{q}}) = \n",
    "\\begin{bmatrix}\n",
    "mL\\dot{\\theta }^{2}\\sin \\theta\\\\\n",
    "-mLg\\sin \\theta\\\\\n",
    "\\end{bmatrix}, \\quad \n",
    "\\mathbf{B} = \n",
    "\\begin{bmatrix}\n",
    "0 \\\\\n",
    "1 \\\\\n",
    "\\end{bmatrix}\n",
    "$$"
   ]
  },
  {
   "cell_type": "markdown",
   "metadata": {
    "slideshow": {
     "slide_type": "subslide"
    }
   },
   "source": [
    "\n",
    "Note that the choice of a set of state variables for a system is **not unique**. So\n",
    "a state-space model for a system is also not unique. There can be **infinitely many possibilities**."
   ]
  },
  {
   "cell_type": "markdown",
   "metadata": {
    "slideshow": {
     "slide_type": "fragment"
    }
   },
   "source": [
    "When the model is obtained from a known differential equation, you can\n",
    "always select meaningful state variables. However, state variables may not\n",
    "directly relate to physical variables if the model is obtained from\n",
    "**identification methods**."
   ]
  },
  {
   "cell_type": "markdown",
   "metadata": {
    "slideshow": {
     "slide_type": "subslide"
    }
   },
   "source": [
    "### **Other Models**\n",
    "It should be noted that there are special cases when the equations above maybe simplified or some interesting properties may be exploited, examples are:\n",
    "\n",
    "* Control affine systems: $\\dot{\\mathbf{x}} = \\mathbf{f}(\\mathbf{x}) + \\mathbf{G}(\\mathbf{x})\\mathbf{u}$ \n",
    "* Drift-less systems: $\\dot{\\mathbf{x}} = \\mathbf{G}(\\mathbf{x})\\mathbf{u}$ \n",
    "* Differential-Algebraic Equations: $\\mathbf{F}(\\dot{\\mathbf{x}}, \\mathbf{x},\\mathbf{u}) = \\boldsymbol{0}$ \n",
    "* Mechanical Systems in Regressor Form: $\\mathbf{Y}(\\mathbf{q}, \\dot{\\mathbf{q}},\\ddot{\\mathbf{q}})\\mathbf{p} = \\mathbf{B}(\\mathbf{q})\\mathbf{u}$\n",
    "* Differential-Inclusions: $\\dot{\\mathbf{x}} \\in \\mathbf{f}(\\mathbf{x},\\mathbf{u},\\mathbf{d}, t)$\n",
    "\n",
    "We will consider some of these later on."
   ]
  },
  {
   "cell_type": "markdown",
   "metadata": {
    "slideshow": {
     "slide_type": "subslide"
    }
   },
   "source": [
    "### **Discrete-Time Systems**\n",
    "\n",
    "Some dynamical systems are described in discrete-times (which can be\n",
    "counted) rather than in continuous time. e.g., system representing a bank\n",
    "account whose balance is reported once everyday. \n",
    "\n",
    "Discrete systems are described by **difference equations**:\n",
    "\n",
    "$$\n",
    "\\begin{matrix}\n",
    "    \\mathbf{x}_{k+1} = \\mathbf{A}_k \\mathbf{x}_k + \\mathbf{B}_k \\mathbf{u}_k\\\\ \n",
    "    \\mathbf{x}_{k+1} = \\mathbf{f}_d(\\mathbf{x}_k,\\mathbf{u}_k,\\mathbf{d}_k, k)\\\\ \n",
    "\\end{matrix}\n",
    "$$\n",
    "\n",
    "Some systems are inherently discrete, whereas many continuous-time\n",
    "systems are modeled in discrete-time for easier analysis and design with\n",
    "digital computers."
   ]
  },
  {
   "cell_type": "markdown",
   "metadata": {
    "slideshow": {
     "slide_type": "subslide"
    }
   },
   "source": [
    "### **Discretization and Simulation**"
   ]
  },
  {
   "cell_type": "markdown",
   "metadata": {
    "slideshow": {
     "slide_type": "fragment"
    }
   },
   "source": [
    "In the field of robotics the most models are actually derived from continues differential equations while the controller is implemented in digital form (software). Thus the overall control system may be described as follows:\n",
    "\n",
    "* Output signals from the system $\\mathbf{x}(t)$ are sampled regularly at times $t_k = kT$,\n",
    "$k = 0,1,2,\\dots$, where $T$ is the sampling period resulting in the **state samples** $\\mathbf{x}_k$.\n",
    "* These samples $\\mathbf{x}_k$ are fed to a **digital controller** which calculates **control input** $\\mathbf{u}_k$.\n",
    "* A **constant input** $\\mathbf{u}_k$ is applied to real system over the sampling period using zero-order hold.\n",
    "\n",
    "So for the purpose of control and analysis, it always useful to obtain a model of the\n",
    "system in **discrete times**. Obtaining a discrete-time model is referred to as\n",
    "**discretization**."
   ]
  },
  {
   "cell_type": "markdown",
   "metadata": {
    "slideshow": {
     "slide_type": "skip"
    }
   },
   "source": [
    "For a LTI system, we can obtain a exact discrete-time model if\n",
    "the input remains constant over each sampling period. \n",
    "\n"
   ]
  },
  {
   "cell_type": "markdown",
   "metadata": {
    "slideshow": {
     "slide_type": "subslide"
    }
   },
   "source": [
    "### **Approximated discretization** \n",
    "\n",
    "Exact discretization of time-varying/nonlinear systems are difficult or may not be analytically possible.\n",
    "\n",
    "Approximate discrete-time models are widely used in practice. For a small\n",
    "sampling time, $T$, we can write, for the nonlinear system $\\dot{\\mathbf{x}} = \\mathbf{f}(\\mathbf{x},\\mathbf{u},\\mathbf{d}, t)$:\n",
    "\n",
    "$$\n",
    "\\begin{matrix}\n",
    "    \\mathbf{x}_{k+1} =\\mathbf{x}_{k} + T\\mathbf{f}\\big(\\mathbf{x}(kT),\\mathbf{u}(kT),\\mathbf{d}(kT), kT\\big)\\\\ \n",
    "\\end{matrix}\n",
    "$$\n",
    "\n",
    "And for a linear system, this becomes\n",
    "$$\n",
    "\\mathbf{x}_{k+1} = (\\mathbf{I} + T\\mathbf{A}(kT))\\mathbf{x}_k + T\\mathbf{B}(kT)\\mathbf{u}_k\n",
    "$$\n",
    "\n",
    "This is called discretization by Euler method."
   ]
  },
  {
   "cell_type": "markdown",
   "metadata": {
    "slideshow": {
     "slide_type": "subslide"
    }
   },
   "source": [
    "**Example:**\n",
    "\n",
    "Consider the nonlinear pendulum described by following state space representation (assuming all parameters are $1$):\n",
    "\n",
    "$$\n",
    "\\dot{\\mathbf{x}} = \n",
    "\\begin{bmatrix}\n",
    "\\dot{x}_1 \\\\\n",
    "\\dot{x}_2\n",
    "\\end{bmatrix} =\n",
    "\\begin{bmatrix}\n",
    "x_2 \\\\\n",
    "u - \\sin x_1 - x_2\n",
    "\\end{bmatrix} \n",
    "$$\n"
   ]
  },
  {
   "cell_type": "markdown",
   "metadata": {
    "slideshow": {
     "slide_type": "fragment"
    }
   },
   "source": [
    "\n",
    "The discrete model is then given by following set of difference equations:\n",
    "$$\n",
    "\\mathbf{x}_{k+1} = \n",
    "\\begin{bmatrix}\n",
    "x_{1_{k+1}} \\\\\n",
    "x_{2_{k+1}}\n",
    "\\end{bmatrix} =\n",
    "\\begin{bmatrix}\n",
    "x_{1_{k}} \\\\\n",
    "x_{2_{k}}\n",
    "\\end{bmatrix} \n",
    "+\n",
    "T\n",
    "\\begin{bmatrix}\n",
    "x_{2_k} \\\\\n",
    "u - \\sin x_{1_k} - x_{2_k}\n",
    "\\end{bmatrix} =\n",
    "\\begin{bmatrix}\n",
    "x_{1_k} + Tx_{2_k} \\\\\n",
    "x_{2_k} + Tu_k - T\\sin x_{1_k} - Tx_{2_k}\n",
    "\\end{bmatrix} \n",
    "$$\n"
   ]
  },
  {
   "cell_type": "markdown",
   "metadata": {
    "slideshow": {
     "slide_type": "subslide"
    }
   },
   "source": [
    "### **Simulation of ODE**\n",
    "While studying ODE $\\dot{\\mathbf{x}} = \\boldsymbol{f}(\\mathbf{x}, \\mathbf{u}, t)$, one is often interested in its solution $\\mathbf{x}(t)$ (integral curve):\n",
    "$$\n",
    "\\mathbf{x}(t) = \\int_{t_0}^{t} \\boldsymbol{f}(\\tau,\\mathbf{x}(\\tau),\\mathbf{u}(\\tau))d\\tau,\\quad \\text{s.t: } \\mathbf{x}(t_0) = \\mathbf{x}_0\n",
    "$$\n",
    "The simulation is nothing but tacking the integral above.\n",
    "\n",
    "However, in most practical situations the above cannot be solved analytically and one should consider numerical integration instead, thus ending up with descrete system:\n",
    "\n",
    "$$\n",
    "\\mathbf{x}_{k+1} = \\mathbf{f}_d(\\mathbf{x}_k,\\mathbf{u}_k,\\mathbf{d}_k, k),\\quad \\text{s.t: } \\mathbf{x}_0 = \\mathbf{x}(t_0)\n",
    "$$\n",
    "\n",
    "Thus simulation is just **iteration over the descrete dynamics** starting from initial point $\\mathbf{x}_0 = \\mathbf{x}(t_0)$"
   ]
  },
  {
   "cell_type": "markdown",
   "metadata": {
    "slideshow": {
     "slide_type": "subslide"
    }
   },
   "source": [
    "Let us implement the simulation of nonlinear pendulum via iterating the discrete dynamics:"
   ]
  },
  {
   "cell_type": "code",
   "execution_count": 5,
   "metadata": {
    "slideshow": {
     "slide_type": "subslide"
    }
   },
   "outputs": [],
   "source": [
    "import numpy as np \n",
    "\n",
    "def f(state, t, control):\n",
    "    u = control \n",
    "    x1, x2 = state \n",
    "    dx1 = x2 \n",
    "    dx2 = u - np.sin(x1) - 0*x2\n",
    "    return np.array([dx1, dx2])\n"
   ]
  },
  {
   "cell_type": "code",
   "execution_count": 15,
   "metadata": {
    "slideshow": {
     "slide_type": "fragment"
    }
   },
   "outputs": [],
   "source": [
    "x_0 = np.array([1,0])\n",
    "T = 2E-2\n",
    "tf = 10\n",
    "N = int(tf/T)\n",
    "X = []\n",
    "\n",
    "\n",
    "# ITERATE DESCRETE DYNAMICS\n",
    "x_prev = x_0\n",
    "for k in range(N):\n",
    "    X.append(x_prev)\n",
    "    u_k = 0\n",
    "    x_new = x_prev + T*f(x_prev, k*T, u_k)\n",
    "    x_prev = x_new \n",
    "\n",
    "x_sol_simp = np.array(X)"
   ]
  },
  {
   "cell_type": "markdown",
   "metadata": {
    "slideshow": {
     "slide_type": "subslide"
    }
   },
   "source": [
    "Let us plot the result:"
   ]
  },
  {
   "cell_type": "code",
   "execution_count": 16,
   "metadata": {
    "slideshow": {
     "slide_type": "fragment"
    }
   },
   "outputs": [
    {
     "data": {
      "image/png": "[encoded data removed]",
      "text/plain": [
       "<Figure size 640x480 with 1 Axes>"
      ]
     },
     "metadata": {},
     "output_type": "display_data"
    }
   ],
   "source": [
    "from matplotlib.pyplot import *\n",
    "\n",
    "plot(x_sol_simp, linewidth=2.0)\n",
    "grid(color='black', linestyle='--', linewidth=1.0, alpha = 0.7)\n",
    "grid(True)\n",
    "# xlim([t0, tf])\n",
    "ylabel(r'State $x_k$')\n",
    "xlabel(r'Samples $k$')\n",
    "show()"
   ]
  },
  {
   "cell_type": "markdown",
   "metadata": {
    "slideshow": {
     "slide_type": "subslide"
    }
   },
   "source": [
    "The Euler method implemented above is highly dependent on the sampling period $T$, there are other suitable methods, the most widely used is the 4-th order Runge-Kutta and advanced variational integrators. However, we will not dig into the integration algorithm, instead for the purpose of simulation we will use `odeint` from the `scipy.integrate`: "
   ]
  },
  {
   "cell_type": "code",
   "execution_count": 17,
   "metadata": {
    "slideshow": {
     "slide_type": "fragment"
    }
   },
   "outputs": [],
   "source": [
    "from scipy.integrate import odeint # import integrator routine\n",
    "scale = 5\n",
    "\n",
    "X = []\n",
    "x_prev = x_0\n",
    "for k in range(N):\n",
    "    X.append(x_prev)\n",
    "    t_k = np.linspace(k*T, (k+1)*T, scale)\n",
    "    u_k = 0\n",
    "    x_new = odeint(f, x_prev, t_k, args = (u_k,))\n",
    "    x_prev  = x_new[-1,:] \n",
    "\n",
    "x_sol = np.array(X)"
   ]
  },
  {
   "cell_type": "code",
   "execution_count": 18,
   "metadata": {
    "slideshow": {
     "slide_type": "subslide"
    }
   },
   "outputs": [
    {
     "data": {
      "image/png": "[encoded data removed]",
      "text/plain": [
       "<Figure size 640x480 with 1 Axes>"
      ]
     },
     "metadata": {},
     "output_type": "display_data"
    }
   ],
   "source": [
    "plot(x_sol, linewidth=2.0)\n",
    "plot(x_sol_simp, linewidth=2.0)\n",
    "grid(color='black', linestyle='--', linewidth=1.0, alpha = 0.7)\n",
    "grid(True)\n",
    "ylabel(r'State $x_k$')\n",
    "xlabel(r'Samples $k$')\n",
    "show()"
   ]
  },
  {
   "cell_type": "markdown",
   "metadata": {
    "slideshow": {
     "slide_type": "slide"
    }
   },
   "source": [
    "### **Controller and Implementation** \n",
    "\n",
    "**How to make the given dynamical system display desired behavior?** this is one of the questions of concern in the field of **control** theory. One of the most widely used approaches supporting the solution of the problems above is the so-called **feedback control**\n",
    "\n",
    "<p align=\"center\">\n",
    "    <img src=\"https://drive.google.com/uc?id=1E4tNt0rSwXsrGSi4U1cOk0D_Y-q8bFJ-\"\" alt=\"drawing\" width=\"70%\" style=\"margin:auto\"/>\n",
    "</p>\n",
    "\n",
    "Let us now assume that one have designed feedback law as follows:\n",
    "$$\n",
    "\\mathbf{u} = \\boldsymbol{\\varphi}(\\mathbf{x})\n",
    "$$\n",
    "\n"
   ]
  },
  {
   "cell_type": "markdown",
   "metadata": {
    "slideshow": {
     "slide_type": "subslide"
    }
   },
   "source": [
    "\n",
    "One may substitute control law and obtain the equations of the **closed loop** system:\n",
    "\n",
    "$$\n",
    "\\mathbf{\\dot{x}} = \\mathbf{f}(\\mathbf{x},\\mathbf{u})  =\\mathbf{f}(\\mathbf{x},\\boldsymbol{\\varphi}(\\mathbf{x})) = \\mathbf{f}_c(\\mathbf{x})\n",
    "$$ \n",
    "\n",
    "now this system is unforced and may be analyzed as it is no control at all - basically we have changed the overall nature of plant - the governing dynamics.\n",
    "\n",
    "In the **next lecture** we will learn how to **design the controller functions** and analyze **closed loop response** with different **numerical and analytical tools**, while for today we will move to the practice when we will focus on the **implementation side of the control system**.  \n",
    "\n"
   ]
  },
  {
   "cell_type": "markdown",
   "metadata": {
    "slideshow": {
     "slide_type": "slide"
    }
   },
   "source": [
    "## **Practice 1: Architecture of The Control System, Controlled Dynamical System as Multiprocessing Software**"
   ]
  },
  {
   "cell_type": "markdown",
   "metadata": {
    "slideshow": {
     "slide_type": "fragment"
    }
   },
   "source": [
    "\n",
    "\n",
    "From point of view of control and software engineers we would like to dig more into **implementation side**. \n",
    "\n",
    "So far we have discussed that the purpose of **control** is to shape system in the way that it is **display desired behavior**. In paper everything is great, you just **design the controller function**, plug it to the **dynamics and analyze the resulting system**. \n",
    "\n",
    "But in practice in most cases the system of choice is described in continues time while controller is in descrete domain. This can be achived if simulation run considerably **faster then controller** and ideally in **parallel** to control process. Thus it is natural to run controller in the separate process or thread.\n"
   ]
  },
  {
   "cell_type": "markdown",
   "metadata": {
    "slideshow": {
     "slide_type": "subslide"
    }
   },
   "source": [
    "Thus the overall software structure of the control system may be roughly described as follows:\n",
    "\n",
    "<p align=\"center\">\n",
    "<img src=\"images/schemes/controller_process.png\" alt=\"drawing\" width=\"70%\" style=\"margin:auto\"/>\n",
    "</p>\n",
    "\n"
   ]
  },
  {
   "cell_type": "markdown",
   "metadata": {
    "slideshow": {
     "slide_type": "subslide"
    }
   },
   "source": [
    "Let us implement this architecture with help of `lcm` (lightweight communications and marshalling ) library:\n",
    "\n"
   ]
  },
  {
   "cell_type": "markdown",
   "metadata": {
    "slideshow": {
     "slide_type": "fragment"
    }
   },
   "source": [
    "* Install the [lcm library](https://lcm-proj.github.io/index.html) and it's [python](https://github.com/lcm-proj/lcm/tree/master/lcm-python) interface (I suggest to use virtualenv)"
   ]
  },
  {
   "cell_type": "markdown",
   "metadata": {
    "slideshow": {
     "slide_type": "fragment"
    }
   },
   "source": [
    "* Clone the [course repository](https://github.com/SimkaNed/modern_control_paradigms) and go to `code/practice_01`\n"
   ]
  },
  {
   "cell_type": "markdown",
   "metadata": {
    "slideshow": {
     "slide_type": "fragment"
    }
   },
   "source": [
    "* Study the `.lcm` files in `transport/messages/`, these are the structures for the **controller**, **plant** and **user** messages.\n"
   ]
  },
  {
   "cell_type": "markdown",
   "metadata": {
    "slideshow": {
     "slide_type": "fragment"
    }
   },
   "source": [
    "* Checkout the `pub.py` `sub.py`, this are examples of publisher and subscriber\n"
   ]
  },
  {
   "cell_type": "markdown",
   "metadata": {
    "slideshow": {
     "slide_type": "fragment"
    }
   },
   "source": [
    "* Implement the plant simulator, controller and user interface (`simulator.py`, `controller.py`, `commands.py`)\n",
    "  * use whatever dynamical system you want, for instance the nonlinear pendulum\n",
    "  * simulation can be done either with simple euler method or odeint 4-th order runge-kutta (check the code from lecture for reference)\n",
    "  * use whatever controller you familiar with (i.e PD, PID), or just apply the constant/random inputs for now \n",
    "  * simulator should not be interrupted by the controller and be blocked\n",
    "  * ensure that simulator is running faster then controller \n"
   ]
  },
  {
   "cell_type": "markdown",
   "metadata": {
    "slideshow": {
     "slide_type": "fragment"
    }
   },
   "source": [
    "* Implement simple logger and printing routine\n"
   ]
  },
  {
   "cell_type": "markdown",
   "metadata": {
    "slideshow": {
     "slide_type": "fragment"
    }
   },
   "source": [
    "* **BONUS** implement online plotter and checkout the trajectories"
   ]
  },
  {
   "cell_type": "markdown",
   "metadata": {
    "slideshow": {
     "slide_type": "subslide"
    }
   },
   "source": [
    "### **Equilibriums**\n",
    "\n",
    "One of the most natural questions ask while studying dynamical systems: Is there any special points or regions such that if system start there will remain there forever? Such regions are called invariant, and in most simple case their represented by so called singular or **equilibrium** points.\n",
    "\n",
    "It is particular easy to find equilibriums by looking for such $\\mathbf{x}_e$ that makes $\\dot{\\mathbf{x}}$ vanish, basicly one should just solve for roots of:\n",
    "\\begin{equation*}\n",
    "\\mathbf{f}(\\mathbf{x}_e) = \\mathbf{0}\n",
    "\\end{equation*}\n",
    "\n",
    "\n",
    "Note that for linear systems one have the following:\n",
    "\\begin{equation*}\n",
    "\\mathbf{A}\\mathbf{x}_e = \\mathbf{0}\n",
    "\\end{equation*}\n",
    "thus equilibriums are either trivial solution $\\mathbf{x}_e = \\mathbf{0}$ or nullspace $\\text{Null}\\{\\mathbf{A}\\}$ \n",
    "\n",
    "\n",
    "One may always transform the original dynamics to the new variables $\\tilde{\\mathbf{x}} = \\mathbf{x} - \\mathbf{x}_e$ such that:\n",
    "\\begin{equation*}\n",
    "\\dot{\\tilde{\\mathbf{x}}} = \\mathbf{}\\mathbf{f}(\\tilde{\\mathbf{x}}+\\mathbf{x}_e)\n",
    "\\end{equation*}\n",
    "we call the expression above **error** or **perturbation** dynamics"
   ]
  },
  {
   "cell_type": "code",
   "execution_count": null,
   "metadata": {
    "slideshow": {
     "slide_type": "subslide"
    }
   },
   "outputs": [
    {
     "data": {
      "text/plain": [
       "[-1, 0, 1]"
      ]
     },
     "metadata": {},
     "output_type": "display_data"
    }
   ],
   "source": [
    "from sympy import symbols, solve, sin\n",
    "\n",
    "x = symbols(r'x')\n",
    "solve(-x + x**3, x)"
   ]
  },
  {
   "cell_type": "code",
   "execution_count": null,
   "metadata": {
    "slideshow": {
     "slide_type": "fragment"
    }
   },
   "outputs": [
    {
     "data": {
      "text/plain": [
       "[(-3, 0), (0, 0)]"
      ]
     },
     "metadata": {},
     "output_type": "display_data"
    }
   ],
   "source": [
    "def f(x):\n",
    "    return x[1], -x[1] - 3*x[0]-x[0]**2\n",
    "\n",
    "x = symbols(r'x_1, x_2')\n",
    "\n",
    "solve(f(x), x)"
   ]
  },
  {
   "cell_type": "markdown",
   "metadata": {
    "slideshow": {
     "slide_type": "subslide"
    }
   },
   "source": [
    "### **Nominal Motion**\n",
    "In some practical problems, we are not concerned with stability around an equilibrium\n",
    "point, but rather with the stability of a motion, i.e, whether a system will remain close\n",
    "to its original motion trajectory if slightly perturbed away from it. \n",
    "\n",
    "Let $\\mathbf{x}_d(t)$ be the solution of equation $\\dot{\\mathbf{x}}_d = \\mathbf{f}(\\mathbf{x}_d)$, i.e., the nominal motion trajectory,\n",
    "corresponding to initial condition $\\mathbf{x}_d(0) = \\mathbf{x}_0$. \n",
    "\n",
    "Let us now perturb the initial condition to be $\\mathbf{x}_d(0) = \\mathbf{x}_0 + \\delta\\mathbf{x}_0$ and study the associated variation of the motion:\n",
    "\\begin{equation*}\n",
    "\\tilde{\\mathbf{x}}(t) = \\mathbf{x}(t) - \\mathbf{x}_d(t)\n",
    "\\end{equation*}\n",
    "\n",
    "\n",
    "Since both $\\mathbf{x}_d(t)$ and $\\mathbf{x}(t)$ are solutions, we have the following:\n",
    "\\begin{equation*}\n",
    "\\dot{\\tilde{\\mathbf{x}}} = \\mathbf{f}(\\mathbf{x}_d(t)+\\tilde{\\mathbf{x}}) - \\mathbf{f}(\\mathbf{x}_d(t)) = \\mathbf{g}(\\tilde{\\mathbf{x}}, t)\n",
    "\\end{equation*}\n",
    "with initial condition $\\tilde{\\mathbf{x}}_0 = \\delta\\mathbf{x}_0$\n",
    "\n",
    "Note, that the perturbation dynamics is non-autonomous, due to the presence of the nominal trajectory $\\mathbf{x}_d(t)$ on the right-hand side."
   ]
  },
  {
   "cell_type": "markdown",
   "metadata": {
    "slideshow": {
     "slide_type": "slide"
    }
   },
   "source": [
    "### **Concepts of Stability**\n",
    "\n",
    "Once the equlibrium or nominal motion is given, the natural question to ask is that how system will behave nearby.\n",
    "This question is directly related to so called **stability**\n",
    "\n",
    "Various types of stability may be discussed for the solutions of differential equations or difference equations describing dynamical systems. The one practically important type is that concerning the stability of solutions near to a point of equilibrium. This may be ,analyzed by the theory of **Aleksandr Lyapunov**. \n",
    "\n",
    "In simple terms, if the solutions that start out near an equilibrium point $\\mathbf{x}_{e}$ stay near $\\mathbf{x}_{e}$ forever, then $\\mathbf{x}_{e}$ is Lyapunov stable. More strongly, if $\\mathbf{x}_{0}$ is Lyapunov stable and all solutions that start out near $\\mathbf{x}_{e}$ converge to $\\mathbf{x}_e$, then $\\mathbf{x}_{e}$ is asymptotically stable. \n",
    "\n"
   ]
  },
  {
   "cell_type": "markdown",
   "metadata": {
    "slideshow": {
     "slide_type": "subslide"
    }
   },
   "source": [
    "\n",
    "A strict definitions are as follows:\n",
    "\n",
    "Equilibrium $\\mathbf{x}_e$ is said to be:\n",
    "*   **Lyapunov stable** if:\n",
    "\\begin{equation*}\n",
    "\\forall \\epsilon>0,\\exists\\delta>0, \\|\\mathbf{x}(0) - \\mathbf{x}_e\\|<\\delta \\rightarrow \\|\\mathbf{x}(t) - \\mathbf{x}_e\\|<\\epsilon, \\quad \\forall t\n",
    "\\end{equation*}\n",
    "*   **Asymptotically stable** if it is Lyapunov stable and:\n",
    "\\begin{equation*}\n",
    "\\exists \\delta >0, \\|\\mathbf{x}(0) - \\mathbf{x}_e\\|< \\delta, \\rightarrow \\lim_{t\\to\\infty} \\|\\mathbf{x}(t) - \\mathbf{x}_e\\| = 0, \\quad \\forall t\n",
    "\\end{equation*}\n",
    "*   **Exponentially stable** if it is asymptotically stable and:\n",
    "\\begin{equation*}\n",
    "\\exists \\delta, \\alpha, \\beta >0, \\|\\mathbf{x}(0) - \\mathbf{x}_e\\|< \\delta, \\rightarrow  \\|\\mathbf{x}(t) - \\mathbf{x}_e\\| \\leq\\alpha\\|\\mathbf{x}(0) - \\mathbf{x}_e\\|^{-{\\beta}t}, \\quad \\forall t  \n",
    "\\end{equation*}"
   ]
  },
  {
   "cell_type": "markdown",
   "metadata": {
    "slideshow": {
     "slide_type": "subslide"
    }
   },
   "source": [
    "Conceptually, the meanings of the above terms are the following:\n",
    "\n",
    "*   **Lyapunov stability** of an equilibrium means that solutions starting \"close enough\" to the equilibrium (within a distance $\\delta$  from it) remain \"close enough\" forever\n",
    "*   **Asymptotic stability** means that solutions that start close enough not only remain close enough but also eventually converge to the equilibrium.\n",
    "*  **Exponential** stability means that solutions not only converge, but in fact converge faster than or at least as fast as a particular known rate $\\alpha\\|\\mathbf{x}(0) - \\mathbf{x}_e\\|^{-{\\beta}t}$\n"
   ]
  },
  {
   "cell_type": "markdown",
   "metadata": {
    "slideshow": {
     "slide_type": "subslide"
    }
   },
   "source": [
    "### **Stability of LTI systems**\n",
    "Let us first consider the linear time invariant systems with dynamics given by $\\dot{\\mathbf{x}} = \\mathbf{A}\\mathbf{x}$, as it well known the solution of such systems is given by:\n",
    "$$\n",
    "\\mathbf{x}^*(t)=e^{\\mathbf{A}t}\\mathbf{x}(0)\n",
    "$$\n",
    "\n",
    "where $e^\\mathbf{A}$ is matrix exponential of $\\mathbf{A}$ defined as, $e^{\\mathbf{A}}=\\sum _{k=0}^{\\infty }{1 \\over k!}\\mathbf{A}^{k}$.\n",
    "\n",
    "One may show that by defining new variables $\\mathbf{Q}\\mathbf{z} = \\mathbf{x}$ yields:\n",
    "$$\n",
    "\\dot{\\mathbf{z}} = \\mathbf{\\Lambda}\\mathbf{z}\n",
    "$$\n",
    "where $\\mathbf{\\Lambda}$ is diagonal matrix of eigenvalues and $\\mathbf{Q}$ is matrix of eigenvectors. \n",
    "\n",
    "The above is in fact just a system of decoupled equations:\n",
    "$$\n",
    "\\dot{z}_i = \\lambda_i z_i,\\quad i = 1,2\\dots,n\n",
    "$$\n",
    "with known solutions:\n",
    "$$\n",
    "z^*_i = e^{\\lambda_i t} z_i(0)\n",
    "$$\n"
   ]
  },
  {
   "cell_type": "markdown",
   "metadata": {
    "slideshow": {
     "slide_type": "subslide"
    }
   },
   "source": [
    "\n",
    "The solution $z_i =  e^{\\lambda_i t}z_i(0)$ can be decomposed using Euler's identity:\n",
    "\n",
    "\\begin{equation}\n",
    "    z_i =  e^{\\lambda_i t}z_i(0) =\n",
    "    e^{(\\alpha_i + i \\beta_i) t}z_i(0) =\n",
    "    e^{\\alpha_i t} \n",
    "          e^{i \\beta_i t}z_i(0) = \n",
    "    e^{\\alpha_i t} \n",
    "    (\\cos(\\beta_i t) + i \\sin(\\beta_i t))z_i(0)\n",
    "\\end{equation}\n",
    "\n",
    "where $\\lambda_i = \\alpha_i + i \\beta_i, \\operatorname{Re}{\\lambda_i} = \\alpha_i, \\operatorname{Im}{\\lambda_i} = \\beta_i$\n",
    "\n",
    "\n",
    "---\n",
    "Since $\\| (\\cos(\\beta_i t) + i \\sin(\\beta_i t))\\| =1$ thus, norm of $z_i$:\n",
    "\n",
    "\n",
    "* Bounded if $\\operatorname{Re}{\\lambda_i} = \\alpha_i = 0$, hence the system is **Lyapunov stable**. \n",
    "* Decreasing if $\\operatorname{Re}{\\lambda_i} = \\alpha_i < 0$, hence the system is **asymptotically** and moreover **exponentially** stable. \n",
    "* Increasing if $\\operatorname{Re}{\\lambda_i} = \\alpha_i > 0$, hence the system is **unstable**. \n",
    "---\n"
   ]
  },
  {
   "cell_type": "code",
   "execution_count": null,
   "metadata": {
    "slideshow": {
     "slide_type": "subslide"
    }
   },
   "outputs": [
    {
     "data": {
      "image/png": "[encoded data removed]",
      "text/plain": [
       "<Figure size 432x288 with 1 Axes>"
      ]
     },
     "metadata": {},
     "output_type": "display_data"
    }
   ],
   "source": [
    "def f(x, t):\n",
    "    return x[1], -x[0]\n",
    "\n",
    "x = simulate(f, [[0.5,0.0]], \n",
    "             tf=6.5, \n",
    "             show_plot=True)"
   ]
  },
  {
   "cell_type": "markdown",
   "metadata": {
    "slideshow": {
     "slide_type": "subslide"
    }
   },
   "source": [
    "### **Local Behavior and Linearization**\n",
    "\n",
    "As one note for LTI systems stability is completely determined by the eigenvalues of $\\mathbf{A}$, \n",
    "however in the nonlinear case there are no notion of eigenvalues, a one of the most straightforward ideas \n",
    "is to approximate the nonlinear system in the vicente of equilibrium point using the first term of Taylor series:\n",
    " \n",
    "\\begin{equation*}\n",
    "\\dot{\\mathbf{x}}\n",
    "= \\mathbf{f}(\\mathbf{x}_e)+ \n",
    "\\frac{\\partial\\mathbf{f}}{\\partial\\mathbf{x}}\\Bigr\\rvert_{\\mathbf{x}_e} \n",
    "(\\mathbf{x} - \\mathbf{x}_e)\n",
    "\\end{equation*}\n",
    "\n",
    "Introducing the error $\\tilde{\\mathbf{x}}$ we may rewrite the equation above in linear form as follows:\n",
    "\n",
    "\\begin{equation*}\n",
    "\\dot{\\tilde{\\mathbf{x}}} = \\mathbf{A}\\tilde{\\mathbf{x}}\n",
    "\\end{equation*}\n",
    "where:$\\mathbf{A} = \\frac{\\partial\\mathbf{f}}{\\partial\\mathbf{x}}\\Bigr\\rvert_{\\mathbf{x}_e}$ - state evaluation matrix\n",
    "\n",
    "Thus linearization consist of three steps:\n",
    "1.   Solving $\\mathbf{f}(\\mathbf{x}_e) = \\mathbf{0}$ for equilibriums.\n",
    "2.   Calculation of the system Jacobian with respect to state $\\mathbf{x}$\n",
    "3.   Evaluation of the resulting Jacobian in the equilibrium points $\\mathbf{x}_e$"
   ]
  },
  {
   "cell_type": "markdown",
   "metadata": {
    "slideshow": {
     "slide_type": "subslide"
    }
   },
   "source": [
    "### **Stibility via Lyapunov Linearization Method**\n",
    "\n",
    "The procedure above is known as Lyapunov linearization method and can be used to find the local stability properties of nonlinear systems \n",
    "nearby equlibrium by studying their linear aproximations as follows:\n",
    "\n",
    "* If the linearized system is **strictly stable** (i.e, if all eigenvalues of $\\mathbf{A}$ are\n",
    "strictly in the left-half complex plane), then the equilibrium point is **asymptotically stable** (for the **actual nonlinear** system).\n",
    "* If the linearized system is **unstable** (i.e, if at least one eigenvalue of $\\mathbf{A}$ is\n",
    "strictly in the right-half complex plane), then the equilibrium point is **unstable**\n",
    "(for the **nonlinear system**).\n",
    "* If the linearized system is **marginally stable** (i.e, all eigenvalues of $\\mathbf{A}$ are in\n",
    "the left-half complex plane, but **at least one of them is on the** $\\text{Im}$ axis), then\n",
    "one **can't conclude anything** from the linear approximation (the equilibrium\n",
    "point may be stable, asymptotically stable, or unstable for the nonlinear system).\n"
   ]
  },
  {
   "cell_type": "markdown",
   "metadata": {
    "slideshow": {
     "slide_type": "subslide"
    }
   },
   "source": [
    "Let us demonstrate the application of Lyapunov method to study stability of equlibriums of:\n",
    "\\begin{equation*}\n",
    "\\ddot{x} = \\dot{x} + 3 x + x^2\n",
    "\\end{equation*}"
   ]
  },
  {
   "cell_type": "code",
   "execution_count": null,
   "metadata": {
    "slideshow": {
     "slide_type": "fragment"
    }
   },
   "outputs": [
    {
     "data": {
      "text/latex": [
       "$\\displaystyle \\left[\\begin{matrix}x_{2}\\\\- x_{1}^{2} - 3 x_{1} - x_{2}\\end{matrix}\\right]$"
      ],
      "text/plain": [
       "Matrix([\n",
       "[                  x_2],\n",
       "[-x_1**2 - 3*x_1 - x_2]])"
      ]
     },
     "metadata": {},
     "output_type": "display_data"
    }
   ],
   "source": [
    "from sympy import Matrix\n",
    "\n",
    "def f(x, t):\n",
    "    return x[1], -x[1] - 3*x[0]-x[0]**2\n",
    "\n",
    "\n",
    "x = symbols(r'x_1, x_2')\n",
    "f_sym = Matrix([f(x, 0)]).T\n",
    "f_sym"
   ]
  },
  {
   "cell_type": "code",
   "execution_count": null,
   "metadata": {
    "slideshow": {
     "slide_type": "fragment"
    }
   },
   "outputs": [
    {
     "name": "stdout",
     "output_type": "stream",
     "text": [
      "[(-3, 0), (0, 0)]\n"
     ]
    }
   ],
   "source": [
    "equlibriums = solve(f_sym, x)\n",
    "print(equlibriums)"
   ]
  },
  {
   "cell_type": "code",
   "execution_count": null,
   "metadata": {
    "slideshow": {
     "slide_type": "subslide"
    }
   },
   "outputs": [
    {
     "data": {
      "text/latex": [
       "$\\displaystyle \\left[\\begin{matrix}0 & 1\\\\- 2 x_{1} - 3 & -1\\end{matrix}\\right]$"
      ],
      "text/plain": [
       "Matrix([\n",
       "[         0,  1],\n",
       "[-2*x_1 - 3, -1]])"
      ]
     },
     "metadata": {},
     "output_type": "display_data"
    }
   ],
   "source": [
    "jacobian = f_sym.jacobian(x)\n",
    "jacobian"
   ]
  },
  {
   "cell_type": "code",
   "execution_count": null,
   "metadata": {
    "slideshow": {
     "slide_type": "fragment"
    }
   },
   "outputs": [
    {
     "name": "stdout",
     "output_type": "stream",
     "text": [
      "The matrix A for equlibrium [-3.  0.] is: \n",
      " [[ 0.  1.]\n",
      " [ 3. -1.]] \n",
      " Eigen values:\n",
      " [ 1.30277564 -2.30277564] \n",
      "\n",
      "The matrix A for equlibrium [0. 0.] is: \n",
      " [[ 0.  1.]\n",
      " [-3. -1.]] \n",
      " Eigen values:\n",
      " [-0.5+1.6583124j -0.5-1.6583124j] \n",
      "\n"
     ]
    }
   ],
   "source": [
    "from sympy.utilities.lambdify import lambdify\n",
    "from numpy import array\n",
    "from numpy.linalg import eig\n",
    "\n",
    "jacobian_num = lambdify([x], jacobian)\n",
    "\n",
    "for equlibrium in equlibriums:\n",
    "    x_e = array(equlibrium, dtype='double')\n",
    "    A = array(jacobian_num(x_e), dtype='double')\n",
    "    lambdas, Q = eig(A) \n",
    "    print(f'The matrix A for equlibrium {x_e} is: \\n {A} \\n Eigen values:\\n {lambdas} \\n')"
   ]
  },
  {
   "cell_type": "code",
   "execution_count": null,
   "metadata": {
    "slideshow": {
     "slide_type": "subslide"
    }
   },
   "outputs": [
    {
     "data": {
      "image/png": "[encoded data removed]",
      "text/plain": [
       "<Figure size 504x360 with 1 Axes>"
      ]
     },
     "metadata": {},
     "output_type": "display_data"
    }
   ],
   "source": [
    "phase_portrait(f,\n",
    "               x_range=[4, 3],\n",
    "               density=0.9)"
   ]
  }
 ],
 "metadata": {
  "celltoolbar": "Slideshow",
  "colab": {
   "collapsed_sections": [],
   "name": "symbolical_linearization.ipynb",
   "provenance": []
  },
  "kernelspec": {
   "display_name": "Python 3 (ipykernel)",
   "language": "python",
   "name": "python3"
  },
  "language_info": {
   "codemirror_mode": {
    "name": "ipython",
    "version": 3
   },
   "file_extension": ".py",
   "mimetype": "text/x-python",
   "name": "python",
   "nbconvert_exporter": "python",
   "pygments_lexer": "ipython3",
   "version": "3.8.10"
  },
  "rise": {
   "enable_chalkboard": true,
   "scroll": true,
   "theme": "simple",
   "transition": "linear"
  },
  "vscode": {
   "interpreter": {
    "hash": "767d51c1340bd893661ea55ea3124f6de3c7a262a8b4abca0554b478b1e2ff90"
   }
  }
 },
 "nbformat": 4,
 "nbformat_minor": 1
}
